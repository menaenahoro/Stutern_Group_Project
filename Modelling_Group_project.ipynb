{
  "nbformat": 4,
  "nbformat_minor": 0,
  "metadata": {
    "colab": {
      "name": "Modelling_Group_project.ipynb",
      "provenance": [],
      "collapsed_sections": [],
      "mount_file_id": "1za6z_i-HJxc7pTUITRwjxW5HLAqwnt6W",
      "authorship_tag": "ABX9TyPmwVspPgXnN9prQOGjSnSb",
      "include_colab_link": true
    },
    "kernelspec": {
      "name": "python3",
      "display_name": "Python 3"
    },
    "language_info": {
      "name": "python"
    }
  },
  "cells": [
    {
      "cell_type": "markdown",
      "metadata": {
        "id": "view-in-github",
        "colab_type": "text"
      },
      "source": [
        "<a href=\"https://colab.research.google.com/github/menaenahoro/Stutern_Group_Project/blob/main/Modelling_Group_project.ipynb\" target=\"_parent\"><img src=\"https://colab.research.google.com/assets/colab-badge.svg\" alt=\"Open In Colab\"/></a>"
      ]
    },
    {
      "cell_type": "code",
      "metadata": {
        "colab": {
          "base_uri": "https://localhost:8080/",
          "height": 204
        },
        "id": "7zZp1hPuwLyY",
        "outputId": "73344f7d-f728-4def-efd7-d699214d772e"
      },
      "source": [
        "import pandas as pd\n",
        "import numpy as np\n",
        "import re\n",
        "df = pd.read_csv(\"/content/drive/MyDrive/Colab Notebooks/Autochek_web_data.csv\",index_col=0)\n",
        "df.head()\n"
      ],
      "execution_count": 76,
      "outputs": [
        {
          "output_type": "execute_result",
          "data": {
            "text/html": [
              "<div>\n",
              "<style scoped>\n",
              "    .dataframe tbody tr th:only-of-type {\n",
              "        vertical-align: middle;\n",
              "    }\n",
              "\n",
              "    .dataframe tbody tr th {\n",
              "        vertical-align: top;\n",
              "    }\n",
              "\n",
              "    .dataframe thead th {\n",
              "        text-align: right;\n",
              "    }\n",
              "</style>\n",
              "<table border=\"1\" class=\"dataframe\">\n",
              "  <thead>\n",
              "    <tr style=\"text-align: right;\">\n",
              "      <th></th>\n",
              "      <th>Name</th>\n",
              "      <th>Price</th>\n",
              "      <th>Mileage</th>\n",
              "      <th>Condition</th>\n",
              "      <th>Year</th>\n",
              "      <th>locations</th>\n",
              "    </tr>\n",
              "  </thead>\n",
              "  <tbody>\n",
              "    <tr>\n",
              "      <th>0</th>\n",
              "      <td>Lexus LX 570</td>\n",
              "      <td>₦ 50,015,000</td>\n",
              "      <td>21,204 km</td>\n",
              "      <td>Foreign Used</td>\n",
              "      <td>2018</td>\n",
              "      <td>Ikate, Lekki, Lagos</td>\n",
              "    </tr>\n",
              "    <tr>\n",
              "      <th>1</th>\n",
              "      <td>Toyota Camry</td>\n",
              "      <td>₦ 5,015,000</td>\n",
              "      <td>140,309 km</td>\n",
              "      <td>Foreign Used</td>\n",
              "      <td>2013</td>\n",
              "      <td>Ikorodu, Lagos</td>\n",
              "    </tr>\n",
              "    <tr>\n",
              "      <th>2</th>\n",
              "      <td>Toyota Venza</td>\n",
              "      <td>₦ 7,115,000</td>\n",
              "      <td>172,709 km</td>\n",
              "      <td>Foreign Used</td>\n",
              "      <td>2013</td>\n",
              "      <td>Ipaja, Lagos</td>\n",
              "    </tr>\n",
              "    <tr>\n",
              "      <th>3</th>\n",
              "      <td>Mercedes-Benz C 350</td>\n",
              "      <td>₦ 4,815,000</td>\n",
              "      <td>114,936 km</td>\n",
              "      <td>Foreign Used</td>\n",
              "      <td>2010</td>\n",
              "      <td>New road, Lekki, Lagos</td>\n",
              "    </tr>\n",
              "    <tr>\n",
              "      <th>4</th>\n",
              "      <td>Toyota Lexus RX 450h</td>\n",
              "      <td>₦ 8,515,000</td>\n",
              "      <td>77,012 mi</td>\n",
              "      <td>Foreign Used</td>\n",
              "      <td>2012</td>\n",
              "      <td>New road, Lekki, Lagos</td>\n",
              "    </tr>\n",
              "  </tbody>\n",
              "</table>\n",
              "</div>"
            ],
            "text/plain": [
              "                   Name         Price  ...  Year               locations\n",
              "0          Lexus LX 570  ₦ 50,015,000  ...  2018     Ikate, Lekki, Lagos\n",
              "1          Toyota Camry   ₦ 5,015,000  ...  2013          Ikorodu, Lagos\n",
              "2          Toyota Venza   ₦ 7,115,000  ...  2013            Ipaja, Lagos\n",
              "3   Mercedes-Benz C 350   ₦ 4,815,000  ...  2010  New road, Lekki, Lagos\n",
              "4  Toyota Lexus RX 450h   ₦ 8,515,000  ...  2012  New road, Lekki, Lagos\n",
              "\n",
              "[5 rows x 6 columns]"
            ]
          },
          "metadata": {
            "tags": []
          },
          "execution_count": 76
        }
      ]
    },
    {
      "cell_type": "code",
      "metadata": {
        "colab": {
          "base_uri": "https://localhost:8080/"
        },
        "id": "rcUuxVpqwoqI",
        "outputId": "0e837739-f077-4958-d3ae-88712ee2d39f"
      },
      "source": [
        "df.locations.value_counts()"
      ],
      "execution_count": 77,
      "outputs": [
        {
          "output_type": "execute_result",
          "data": {
            "text/plain": [
              "Festac, Lagos             1952\n",
              "Ikate, Lekki, Lagos       1098\n",
              "Gwarinpa, Abuja            610\n",
              "Lagos, Lagos               610\n",
              "Surulere, Lagos            366\n",
              "New road, Lekki, Lagos     244\n",
              "Jahi, Abuja                244\n",
              "Anthony, Lagos             244\n",
              "Ikorodu, Lagos             122\n",
              "Ipaja, Lagos               122\n",
              "Berger Mkt, Lagos          122\n",
              "Kubwa Express, Abuja       122\n",
              "Name: locations, dtype: int64"
            ]
          },
          "metadata": {
            "tags": []
          },
          "execution_count": 77
        }
      ]
    },
    {
      "cell_type": "markdown",
      "metadata": {
        "id": "d8hj8yiYrGSx"
      },
      "source": [
        "**PREPROCESSING**"
      ]
    },
    {
      "cell_type": "code",
      "metadata": {
        "id": "L2wTJHK3Gl9N",
        "colab": {
          "base_uri": "https://localhost:8080/"
        },
        "outputId": "45de5eaf-a9a4-4078-e37a-37db32c6df65"
      },
      "source": [
        "'''firstly I'm going to split the words using ',' which would produce ['122323', 'km'] or ['12345', 'mi']'''\n",
        "def Get_word(i):\n",
        "  ban = i.split(\" \")\n",
        "  return ban\n",
        "\n",
        "df['Mileage'] = df.apply(lambda row: Get_word(row['Mileage']), axis=1)\n",
        "\n",
        "'''Then we filter the rows with 'mi' and convert then to 'km' '''\n",
        "def Prep_word(i):\n",
        "  bag = i[0]\n",
        "  bag = bag.split(\",\")\n",
        "  bag = bag[0]+bag[1]\n",
        "  bag = int(bag)\n",
        "  if i[-1]==\"km\":\n",
        "    return bag\n",
        "  elif i[-1]==\"mi\":\n",
        "    return (bag*1.60934)\n",
        "\n",
        "df['Mileage'] = df.apply(lambda row: Prep_word(row['Mileage']), axis=1)\n",
        "df['Mileage'] = round(df['Mileage'], ndigits=1)\n",
        "df['Mileage']"
      ],
      "execution_count": 78,
      "outputs": [
        {
          "output_type": "execute_result",
          "data": {
            "text/plain": [
              "0        21204.0\n",
              "1       140309.0\n",
              "2       172709.0\n",
              "3       114936.0\n",
              "4       123938.5\n",
              "          ...   \n",
              "5851    282613.0\n",
              "5852     71584.0\n",
              "5853    112019.0\n",
              "5854     98697.0\n",
              "5855    106800.0\n",
              "Name: Mileage, Length: 5856, dtype: float64"
            ]
          },
          "metadata": {
            "tags": []
          },
          "execution_count": 78
        }
      ]
    },
    {
      "cell_type": "code",
      "metadata": {
        "id": "Gr7aZw-uLVOi",
        "colab": {
          "base_uri": "https://localhost:8080/"
        },
        "outputId": "5b5ffdc5-feec-49be-e010-7a5bfd0b4f25"
      },
      "source": [
        "'''firstly I'm going to split the words using ',' which would produce ['122323', 'km'] or ['12345', 'mi']'''\n",
        "def Get_Price(i):\n",
        "  ban = i.split(\" \")\n",
        "  price = ban[-1]\n",
        "  price = price.split(\",\")\n",
        "  price = price[0]+price[1]+price[2]\n",
        "  return int(price)\n",
        "\n",
        "df['Price'] = df.apply(lambda row: Get_Price(row['Price']), axis=1)\n",
        "df['Price']"
      ],
      "execution_count": 79,
      "outputs": [
        {
          "output_type": "execute_result",
          "data": {
            "text/plain": [
              "0       50015000\n",
              "1        5015000\n",
              "2        7115000\n",
              "3        4815000\n",
              "4        8515000\n",
              "          ...   \n",
              "5851     2797500\n",
              "5852     6515000\n",
              "5853     5680000\n",
              "5854     8770000\n",
              "5855     9285000\n",
              "Name: Price, Length: 5856, dtype: int64"
            ]
          },
          "metadata": {
            "tags": []
          },
          "execution_count": 79
        }
      ]
    },
    {
      "cell_type": "markdown",
      "metadata": {
        "id": "aVw6Ojyyq6ne"
      },
      "source": [
        "**Merging Prevoiusly scrapped data from Cars45**"
      ]
    },
    {
      "cell_type": "code",
      "metadata": {
        "id": "aXEh3vBxq5Ts",
        "colab": {
          "base_uri": "https://localhost:8080/",
          "height": 204
        },
        "outputId": "fb9bd28f-110c-4fb9-daf9-7917abc493ef"
      },
      "source": [
        "data = pd.read_csv(\"/content/drive/MyDrive/Colab Notebooks/data/clean_car_df0.csv\", index_col=None, header=0, engine='python' )\n",
        "data.head()"
      ],
      "execution_count": 80,
      "outputs": [
        {
          "output_type": "execute_result",
          "data": {
            "text/html": [
              "<div>\n",
              "<style scoped>\n",
              "    .dataframe tbody tr th:only-of-type {\n",
              "        vertical-align: middle;\n",
              "    }\n",
              "\n",
              "    .dataframe tbody tr th {\n",
              "        vertical-align: top;\n",
              "    }\n",
              "\n",
              "    .dataframe thead th {\n",
              "        text-align: right;\n",
              "    }\n",
              "</style>\n",
              "<table border=\"1\" class=\"dataframe\">\n",
              "  <thead>\n",
              "    <tr style=\"text-align: right;\">\n",
              "      <th></th>\n",
              "      <th>Name</th>\n",
              "      <th>Mileage</th>\n",
              "      <th>Year</th>\n",
              "      <th>Condition</th>\n",
              "      <th>Price</th>\n",
              "    </tr>\n",
              "  </thead>\n",
              "  <tbody>\n",
              "    <tr>\n",
              "      <th>0</th>\n",
              "      <td>Ford F-150</td>\n",
              "      <td>177341</td>\n",
              "      <td>2005</td>\n",
              "      <td>Foreign Used</td>\n",
              "      <td>3270000</td>\n",
              "    </tr>\n",
              "    <tr>\n",
              "      <th>1</th>\n",
              "      <td>Mercedes-Benz C300</td>\n",
              "      <td>93916</td>\n",
              "      <td>2015</td>\n",
              "      <td>Nigerian Used</td>\n",
              "      <td>10090000</td>\n",
              "    </tr>\n",
              "    <tr>\n",
              "      <th>2</th>\n",
              "      <td>Mazda 3</td>\n",
              "      <td>201640</td>\n",
              "      <td>2010</td>\n",
              "      <td>Foreign Used</td>\n",
              "      <td>2250000</td>\n",
              "    </tr>\n",
              "    <tr>\n",
              "      <th>3</th>\n",
              "      <td>Nissan Almera</td>\n",
              "      <td>115599</td>\n",
              "      <td>2012</td>\n",
              "      <td>Nigerian Used</td>\n",
              "      <td>1018000</td>\n",
              "    </tr>\n",
              "    <tr>\n",
              "      <th>4</th>\n",
              "      <td>Toyota Camry</td>\n",
              "      <td>98986</td>\n",
              "      <td>2004</td>\n",
              "      <td>Nigerian Used</td>\n",
              "      <td>1578000</td>\n",
              "    </tr>\n",
              "  </tbody>\n",
              "</table>\n",
              "</div>"
            ],
            "text/plain": [
              "                  Name  Mileage  Year         Condition     Price\n",
              "0          Ford F-150    177341  2005    Foreign Used     3270000\n",
              "1   Mercedes-Benz C300    93916  2015   Nigerian Used    10090000\n",
              "2              Mazda 3   201640  2010    Foreign Used     2250000\n",
              "3        Nissan Almera   115599  2012   Nigerian Used     1018000\n",
              "4         Toyota Camry    98986  2004   Nigerian Used     1578000"
            ]
          },
          "metadata": {
            "tags": []
          },
          "execution_count": 80
        }
      ]
    },
    {
      "cell_type": "code",
      "metadata": {
        "id": "MqA5XfX39FQR"
      },
      "source": [
        "'''Remove the white space at the beginning and ending of each string in the column'''\n",
        "data.Condition = data.Condition.str.strip()\n",
        "data.Name = data.Name.str.strip()\n"
      ],
      "execution_count": 81,
      "outputs": []
    },
    {
      "cell_type": "code",
      "metadata": {
        "id": "T1488tMw6wTr",
        "colab": {
          "base_uri": "https://localhost:8080/"
        },
        "outputId": "6ba0dd38-688d-43ed-c2b6-9594483a5d3b"
      },
      "source": [
        "data.Condition.value_counts()"
      ],
      "execution_count": 85,
      "outputs": [
        {
          "output_type": "execute_result",
          "data": {
            "text/plain": [
              "Nigerian Used    3183\n",
              "Foreign Used     1147\n",
              "New                24\n",
              "                    3\n",
              "Name: Condition, dtype: int64"
            ]
          },
          "metadata": {
            "tags": []
          },
          "execution_count": 85
        }
      ]
    },
    {
      "cell_type": "code",
      "metadata": {
        "id": "MZar-VDWuvx1",
        "colab": {
          "base_uri": "https://localhost:8080/",
          "height": 204
        },
        "outputId": "3f0accc7-e43f-4ac0-d291-0540b4d976d6"
      },
      "source": [
        "R_df = df.append(data, sort=False)\n",
        "R_df.head()"
      ],
      "execution_count": 86,
      "outputs": [
        {
          "output_type": "execute_result",
          "data": {
            "text/html": [
              "<div>\n",
              "<style scoped>\n",
              "    .dataframe tbody tr th:only-of-type {\n",
              "        vertical-align: middle;\n",
              "    }\n",
              "\n",
              "    .dataframe tbody tr th {\n",
              "        vertical-align: top;\n",
              "    }\n",
              "\n",
              "    .dataframe thead th {\n",
              "        text-align: right;\n",
              "    }\n",
              "</style>\n",
              "<table border=\"1\" class=\"dataframe\">\n",
              "  <thead>\n",
              "    <tr style=\"text-align: right;\">\n",
              "      <th></th>\n",
              "      <th>Name</th>\n",
              "      <th>Price</th>\n",
              "      <th>Mileage</th>\n",
              "      <th>Condition</th>\n",
              "      <th>Year</th>\n",
              "      <th>locations</th>\n",
              "    </tr>\n",
              "  </thead>\n",
              "  <tbody>\n",
              "    <tr>\n",
              "      <th>0</th>\n",
              "      <td>Lexus LX 570</td>\n",
              "      <td>50015000</td>\n",
              "      <td>21204.0</td>\n",
              "      <td>Foreign Used</td>\n",
              "      <td>2018</td>\n",
              "      <td>Ikate, Lekki, Lagos</td>\n",
              "    </tr>\n",
              "    <tr>\n",
              "      <th>1</th>\n",
              "      <td>Toyota Camry</td>\n",
              "      <td>5015000</td>\n",
              "      <td>140309.0</td>\n",
              "      <td>Foreign Used</td>\n",
              "      <td>2013</td>\n",
              "      <td>Ikorodu, Lagos</td>\n",
              "    </tr>\n",
              "    <tr>\n",
              "      <th>2</th>\n",
              "      <td>Toyota Venza</td>\n",
              "      <td>7115000</td>\n",
              "      <td>172709.0</td>\n",
              "      <td>Foreign Used</td>\n",
              "      <td>2013</td>\n",
              "      <td>Ipaja, Lagos</td>\n",
              "    </tr>\n",
              "    <tr>\n",
              "      <th>3</th>\n",
              "      <td>Mercedes-Benz C 350</td>\n",
              "      <td>4815000</td>\n",
              "      <td>114936.0</td>\n",
              "      <td>Foreign Used</td>\n",
              "      <td>2010</td>\n",
              "      <td>New road, Lekki, Lagos</td>\n",
              "    </tr>\n",
              "    <tr>\n",
              "      <th>4</th>\n",
              "      <td>Toyota Lexus RX 450h</td>\n",
              "      <td>8515000</td>\n",
              "      <td>123938.5</td>\n",
              "      <td>Foreign Used</td>\n",
              "      <td>2012</td>\n",
              "      <td>New road, Lekki, Lagos</td>\n",
              "    </tr>\n",
              "  </tbody>\n",
              "</table>\n",
              "</div>"
            ],
            "text/plain": [
              "                   Name     Price  ...  Year               locations\n",
              "0          Lexus LX 570  50015000  ...  2018     Ikate, Lekki, Lagos\n",
              "1          Toyota Camry   5015000  ...  2013          Ikorodu, Lagos\n",
              "2          Toyota Venza   7115000  ...  2013            Ipaja, Lagos\n",
              "3   Mercedes-Benz C 350   4815000  ...  2010  New road, Lekki, Lagos\n",
              "4  Toyota Lexus RX 450h   8515000  ...  2012  New road, Lekki, Lagos\n",
              "\n",
              "[5 rows x 6 columns]"
            ]
          },
          "metadata": {
            "tags": []
          },
          "execution_count": 86
        }
      ]
    },
    {
      "cell_type": "code",
      "metadata": {
        "id": "INzgYjlOvFDa",
        "colab": {
          "base_uri": "https://localhost:8080/"
        },
        "outputId": "e4183ec9-ba46-4875-cd53-5e233c28409b"
      },
      "source": [
        "R_df.shape"
      ],
      "execution_count": 87,
      "outputs": [
        {
          "output_type": "execute_result",
          "data": {
            "text/plain": [
              "(10213, 6)"
            ]
          },
          "metadata": {
            "tags": []
          },
          "execution_count": 87
        }
      ]
    },
    {
      "cell_type": "code",
      "metadata": {
        "id": "JqTH_G9HNcNt",
        "colab": {
          "base_uri": "https://localhost:8080/",
          "height": 204
        },
        "outputId": "f29f5388-290d-4154-e586-a450d7727bf6"
      },
      "source": [
        "nume_data = R_df.select_dtypes(include=[np.number])\n",
        "nume_data.head()"
      ],
      "execution_count": 88,
      "outputs": [
        {
          "output_type": "execute_result",
          "data": {
            "text/html": [
              "<div>\n",
              "<style scoped>\n",
              "    .dataframe tbody tr th:only-of-type {\n",
              "        vertical-align: middle;\n",
              "    }\n",
              "\n",
              "    .dataframe tbody tr th {\n",
              "        vertical-align: top;\n",
              "    }\n",
              "\n",
              "    .dataframe thead th {\n",
              "        text-align: right;\n",
              "    }\n",
              "</style>\n",
              "<table border=\"1\" class=\"dataframe\">\n",
              "  <thead>\n",
              "    <tr style=\"text-align: right;\">\n",
              "      <th></th>\n",
              "      <th>Price</th>\n",
              "      <th>Mileage</th>\n",
              "      <th>Year</th>\n",
              "    </tr>\n",
              "  </thead>\n",
              "  <tbody>\n",
              "    <tr>\n",
              "      <th>0</th>\n",
              "      <td>50015000</td>\n",
              "      <td>21204.0</td>\n",
              "      <td>2018</td>\n",
              "    </tr>\n",
              "    <tr>\n",
              "      <th>1</th>\n",
              "      <td>5015000</td>\n",
              "      <td>140309.0</td>\n",
              "      <td>2013</td>\n",
              "    </tr>\n",
              "    <tr>\n",
              "      <th>2</th>\n",
              "      <td>7115000</td>\n",
              "      <td>172709.0</td>\n",
              "      <td>2013</td>\n",
              "    </tr>\n",
              "    <tr>\n",
              "      <th>3</th>\n",
              "      <td>4815000</td>\n",
              "      <td>114936.0</td>\n",
              "      <td>2010</td>\n",
              "    </tr>\n",
              "    <tr>\n",
              "      <th>4</th>\n",
              "      <td>8515000</td>\n",
              "      <td>123938.5</td>\n",
              "      <td>2012</td>\n",
              "    </tr>\n",
              "  </tbody>\n",
              "</table>\n",
              "</div>"
            ],
            "text/plain": [
              "      Price   Mileage  Year\n",
              "0  50015000   21204.0  2018\n",
              "1   5015000  140309.0  2013\n",
              "2   7115000  172709.0  2013\n",
              "3   4815000  114936.0  2010\n",
              "4   8515000  123938.5  2012"
            ]
          },
          "metadata": {
            "tags": []
          },
          "execution_count": 88
        }
      ]
    },
    {
      "cell_type": "code",
      "metadata": {
        "id": "X20I7RxDo99L",
        "colab": {
          "base_uri": "https://localhost:8080/",
          "height": 204
        },
        "outputId": "6d666b6f-98c9-4aed-a02a-2f3ab37b0e2c"
      },
      "source": [
        "cate_data = R_df.select_dtypes(exclude=[np.number])\n",
        "cate_data.head()"
      ],
      "execution_count": 89,
      "outputs": [
        {
          "output_type": "execute_result",
          "data": {
            "text/html": [
              "<div>\n",
              "<style scoped>\n",
              "    .dataframe tbody tr th:only-of-type {\n",
              "        vertical-align: middle;\n",
              "    }\n",
              "\n",
              "    .dataframe tbody tr th {\n",
              "        vertical-align: top;\n",
              "    }\n",
              "\n",
              "    .dataframe thead th {\n",
              "        text-align: right;\n",
              "    }\n",
              "</style>\n",
              "<table border=\"1\" class=\"dataframe\">\n",
              "  <thead>\n",
              "    <tr style=\"text-align: right;\">\n",
              "      <th></th>\n",
              "      <th>Name</th>\n",
              "      <th>Condition</th>\n",
              "      <th>locations</th>\n",
              "    </tr>\n",
              "  </thead>\n",
              "  <tbody>\n",
              "    <tr>\n",
              "      <th>0</th>\n",
              "      <td>Lexus LX 570</td>\n",
              "      <td>Foreign Used</td>\n",
              "      <td>Ikate, Lekki, Lagos</td>\n",
              "    </tr>\n",
              "    <tr>\n",
              "      <th>1</th>\n",
              "      <td>Toyota Camry</td>\n",
              "      <td>Foreign Used</td>\n",
              "      <td>Ikorodu, Lagos</td>\n",
              "    </tr>\n",
              "    <tr>\n",
              "      <th>2</th>\n",
              "      <td>Toyota Venza</td>\n",
              "      <td>Foreign Used</td>\n",
              "      <td>Ipaja, Lagos</td>\n",
              "    </tr>\n",
              "    <tr>\n",
              "      <th>3</th>\n",
              "      <td>Mercedes-Benz C 350</td>\n",
              "      <td>Foreign Used</td>\n",
              "      <td>New road, Lekki, Lagos</td>\n",
              "    </tr>\n",
              "    <tr>\n",
              "      <th>4</th>\n",
              "      <td>Toyota Lexus RX 450h</td>\n",
              "      <td>Foreign Used</td>\n",
              "      <td>New road, Lekki, Lagos</td>\n",
              "    </tr>\n",
              "  </tbody>\n",
              "</table>\n",
              "</div>"
            ],
            "text/plain": [
              "                   Name     Condition               locations\n",
              "0          Lexus LX 570  Foreign Used     Ikate, Lekki, Lagos\n",
              "1          Toyota Camry  Foreign Used          Ikorodu, Lagos\n",
              "2          Toyota Venza  Foreign Used            Ipaja, Lagos\n",
              "3   Mercedes-Benz C 350  Foreign Used  New road, Lekki, Lagos\n",
              "4  Toyota Lexus RX 450h  Foreign Used  New road, Lekki, Lagos"
            ]
          },
          "metadata": {
            "tags": []
          },
          "execution_count": 89
        }
      ]
    },
    {
      "cell_type": "code",
      "metadata": {
        "id": "OTqfcXLPvTu5",
        "colab": {
          "base_uri": "https://localhost:8080/",
          "height": 204
        },
        "outputId": "ea709be4-5041-415a-cb78-19054fe093fb"
      },
      "source": [
        "R_df = R_df.drop(['locations'], axis=1)\n",
        "R_df.head()"
      ],
      "execution_count": 90,
      "outputs": [
        {
          "output_type": "execute_result",
          "data": {
            "text/html": [
              "<div>\n",
              "<style scoped>\n",
              "    .dataframe tbody tr th:only-of-type {\n",
              "        vertical-align: middle;\n",
              "    }\n",
              "\n",
              "    .dataframe tbody tr th {\n",
              "        vertical-align: top;\n",
              "    }\n",
              "\n",
              "    .dataframe thead th {\n",
              "        text-align: right;\n",
              "    }\n",
              "</style>\n",
              "<table border=\"1\" class=\"dataframe\">\n",
              "  <thead>\n",
              "    <tr style=\"text-align: right;\">\n",
              "      <th></th>\n",
              "      <th>Name</th>\n",
              "      <th>Price</th>\n",
              "      <th>Mileage</th>\n",
              "      <th>Condition</th>\n",
              "      <th>Year</th>\n",
              "    </tr>\n",
              "  </thead>\n",
              "  <tbody>\n",
              "    <tr>\n",
              "      <th>0</th>\n",
              "      <td>Lexus LX 570</td>\n",
              "      <td>50015000</td>\n",
              "      <td>21204.0</td>\n",
              "      <td>Foreign Used</td>\n",
              "      <td>2018</td>\n",
              "    </tr>\n",
              "    <tr>\n",
              "      <th>1</th>\n",
              "      <td>Toyota Camry</td>\n",
              "      <td>5015000</td>\n",
              "      <td>140309.0</td>\n",
              "      <td>Foreign Used</td>\n",
              "      <td>2013</td>\n",
              "    </tr>\n",
              "    <tr>\n",
              "      <th>2</th>\n",
              "      <td>Toyota Venza</td>\n",
              "      <td>7115000</td>\n",
              "      <td>172709.0</td>\n",
              "      <td>Foreign Used</td>\n",
              "      <td>2013</td>\n",
              "    </tr>\n",
              "    <tr>\n",
              "      <th>3</th>\n",
              "      <td>Mercedes-Benz C 350</td>\n",
              "      <td>4815000</td>\n",
              "      <td>114936.0</td>\n",
              "      <td>Foreign Used</td>\n",
              "      <td>2010</td>\n",
              "    </tr>\n",
              "    <tr>\n",
              "      <th>4</th>\n",
              "      <td>Toyota Lexus RX 450h</td>\n",
              "      <td>8515000</td>\n",
              "      <td>123938.5</td>\n",
              "      <td>Foreign Used</td>\n",
              "      <td>2012</td>\n",
              "    </tr>\n",
              "  </tbody>\n",
              "</table>\n",
              "</div>"
            ],
            "text/plain": [
              "                   Name     Price   Mileage     Condition  Year\n",
              "0          Lexus LX 570  50015000   21204.0  Foreign Used  2018\n",
              "1          Toyota Camry   5015000  140309.0  Foreign Used  2013\n",
              "2          Toyota Venza   7115000  172709.0  Foreign Used  2013\n",
              "3   Mercedes-Benz C 350   4815000  114936.0  Foreign Used  2010\n",
              "4  Toyota Lexus RX 450h   8515000  123938.5  Foreign Used  2012"
            ]
          },
          "metadata": {
            "tags": []
          },
          "execution_count": 90
        }
      ]
    },
    {
      "cell_type": "code",
      "metadata": {
        "colab": {
          "base_uri": "https://localhost:8080/"
        },
        "id": "mEi6LjdlEMiU",
        "outputId": "fd57632d-7afe-4783-abdb-c77d1b1a8149"
      },
      "source": [
        "R_df.Condition.value_counts()"
      ],
      "execution_count": 91,
      "outputs": [
        {
          "output_type": "execute_result",
          "data": {
            "text/plain": [
              "Foreign Used     6759\n",
              "Nigerian Used    3183\n",
              "Locally Used      244\n",
              "New                24\n",
              "                    3\n",
              "Name: Condition, dtype: int64"
            ]
          },
          "metadata": {
            "tags": []
          },
          "execution_count": 91
        }
      ]
    },
    {
      "cell_type": "code",
      "metadata": {
        "id": "AyEj0kFiGFim"
      },
      "source": [
        "from sklearn.preprocessing import LabelEncoder"
      ],
      "execution_count": 92,
      "outputs": []
    },
    {
      "cell_type": "code",
      "metadata": {
        "id": "0OHKutvl3aGz"
      },
      "source": [
        "df2 = R_df.copy()\n"
      ],
      "execution_count": 94,
      "outputs": []
    },
    {
      "cell_type": "code",
      "metadata": {
        "id": "JLQMT_m-GZ6X"
      },
      "source": [
        "\n",
        "# encode the categorical data\n",
        "le_Name = LabelEncoder()\n",
        "le_Condition = LabelEncoder()\n",
        "df2['Name'] = le_Name.fit_transform(df2['Name'].astype(str))\n",
        "df2['Condition'] = le_Condition.fit_transform(df2['Condition'].astype(str))"
      ],
      "execution_count": 99,
      "outputs": []
    },
    {
      "cell_type": "code",
      "metadata": {
        "id": "FurodobBm__d",
        "colab": {
          "base_uri": "https://localhost:8080/",
          "height": 204
        },
        "outputId": "a4a11dc0-0f4b-4737-8ffc-660c27de1d1c"
      },
      "source": [
        "df3 = df2.copy()\n",
        "df3 = df3.drop(['Price'], axis=1)\n",
        "df3.head()"
      ],
      "execution_count": 103,
      "outputs": [
        {
          "output_type": "execute_result",
          "data": {
            "text/html": [
              "<div>\n",
              "<style scoped>\n",
              "    .dataframe tbody tr th:only-of-type {\n",
              "        vertical-align: middle;\n",
              "    }\n",
              "\n",
              "    .dataframe tbody tr th {\n",
              "        vertical-align: top;\n",
              "    }\n",
              "\n",
              "    .dataframe thead th {\n",
              "        text-align: right;\n",
              "    }\n",
              "</style>\n",
              "<table border=\"1\" class=\"dataframe\">\n",
              "  <thead>\n",
              "    <tr style=\"text-align: right;\">\n",
              "      <th></th>\n",
              "      <th>Name</th>\n",
              "      <th>Mileage</th>\n",
              "      <th>Condition</th>\n",
              "      <th>Year</th>\n",
              "    </tr>\n",
              "  </thead>\n",
              "  <tbody>\n",
              "    <tr>\n",
              "      <th>0</th>\n",
              "      <td>224</td>\n",
              "      <td>21204.0</td>\n",
              "      <td>1</td>\n",
              "      <td>2018</td>\n",
              "    </tr>\n",
              "    <tr>\n",
              "      <th>1</th>\n",
              "      <td>469</td>\n",
              "      <td>140309.0</td>\n",
              "      <td>1</td>\n",
              "      <td>2013</td>\n",
              "    </tr>\n",
              "    <tr>\n",
              "      <th>2</th>\n",
              "      <td>503</td>\n",
              "      <td>172709.0</td>\n",
              "      <td>1</td>\n",
              "      <td>2013</td>\n",
              "    </tr>\n",
              "    <tr>\n",
              "      <th>3</th>\n",
              "      <td>286</td>\n",
              "      <td>114936.0</td>\n",
              "      <td>1</td>\n",
              "      <td>2010</td>\n",
              "    </tr>\n",
              "    <tr>\n",
              "      <th>4</th>\n",
              "      <td>487</td>\n",
              "      <td>123938.5</td>\n",
              "      <td>1</td>\n",
              "      <td>2012</td>\n",
              "    </tr>\n",
              "  </tbody>\n",
              "</table>\n",
              "</div>"
            ],
            "text/plain": [
              "   Name   Mileage  Condition  Year\n",
              "0   224   21204.0          1  2018\n",
              "1   469  140309.0          1  2013\n",
              "2   503  172709.0          1  2013\n",
              "3   286  114936.0          1  2010\n",
              "4   487  123938.5          1  2012"
            ]
          },
          "metadata": {
            "tags": []
          },
          "execution_count": 103
        }
      ]
    },
    {
      "cell_type": "code",
      "metadata": {
        "id": "fnREmftJw_Z1",
        "colab": {
          "base_uri": "https://localhost:8080/"
        },
        "outputId": "762b6ad7-3689-44f0-ceb3-2313f8614edf"
      },
      "source": [
        "X = df3.iloc[:, :].values\n",
        "Y = df2.iloc[:, 1].values\n",
        "print(X)"
      ],
      "execution_count": 104,
      "outputs": [
        {
          "output_type": "stream",
          "text": [
            "[[2.24000e+02 2.12040e+04 1.00000e+00 2.01800e+03]\n",
            " [4.69000e+02 1.40309e+05 1.00000e+00 2.01300e+03]\n",
            " [5.03000e+02 1.72709e+05 1.00000e+00 2.01300e+03]\n",
            " ...\n",
            " [4.85000e+02 4.85020e+04 4.00000e+00 2.01000e+03]\n",
            " [3.52000e+02 8.04970e+04 4.00000e+00 2.00500e+03]\n",
            " [3.67000e+02 1.24776e+05 4.00000e+00 2.01200e+03]]\n"
          ],
          "name": "stdout"
        }
      ]
    },
    {
      "cell_type": "code",
      "metadata": {
        "id": "zESVuaoZPYV-"
      },
      "source": [
        "from sklearn.model_selection import train_test_split\n"
      ],
      "execution_count": 105,
      "outputs": []
    },
    {
      "cell_type": "code",
      "metadata": {
        "id": "r3_quRCUtQmS"
      },
      "source": [
        "X_train, X_test, y_train, y_test = train_test_split(\n",
        "    X, Y, test_size=0.2, random_state=123\n",
        ")"
      ],
      "execution_count": 107,
      "outputs": []
    },
    {
      "cell_type": "code",
      "metadata": {
        "id": "i5n_QsGiQT0-",
        "colab": {
          "base_uri": "https://localhost:8080/"
        },
        "outputId": "4c065027-7c5f-4ce7-e112-c0e0315d1421"
      },
      "source": [
        "X_train"
      ],
      "execution_count": 108,
      "outputs": [
        {
          "output_type": "execute_result",
          "data": {
            "text/plain": [
              "array([[3.300000e+02, 1.659010e+05, 1.000000e+00, 2.012000e+03],\n",
              "       [4.710000e+02, 7.158400e+04, 1.000000e+00, 2.015000e+03],\n",
              "       [4.950000e+02, 7.944800e+04, 1.000000e+00, 2.008000e+03],\n",
              "       ...,\n",
              "       [1.310000e+02, 1.463720e+05, 1.000000e+00, 2.013000e+03],\n",
              "       [5.030000e+02, 1.727090e+05, 1.000000e+00, 2.013000e+03],\n",
              "       [2.310000e+02, 1.097634e+05, 1.000000e+00, 2.013000e+03]])"
            ]
          },
          "metadata": {
            "tags": []
          },
          "execution_count": 108
        }
      ]
    },
    {
      "cell_type": "code",
      "metadata": {
        "id": "Zl5hq37xJEwl",
        "colab": {
          "base_uri": "https://localhost:8080/"
        },
        "outputId": "0f23d556-b830-4d50-c54d-fe3d74257cd5"
      },
      "source": [
        "# encode the numerical data\n",
        "from sklearn.preprocessing import StandardScaler\n",
        "sc = StandardScaler()\n",
        "X_train = sc.fit_transform(X_train)\n",
        "X_test = sc.transform(X_test)\n",
        "X_train"
      ],
      "execution_count": 109,
      "outputs": [
        {
          "output_type": "execute_result",
          "data": {
            "text/plain": [
              "array([[-0.02324368,  0.19144585, -0.70093215,  0.06793393],\n",
              "       [ 0.89361764, -0.5705902 , -0.70093215,  0.1155479 ],\n",
              "       [ 1.04967914, -0.50705286, -0.70093215,  0.00444863],\n",
              "       ...,\n",
              "       [-1.31725362,  0.03366091, -0.70093215,  0.08380526],\n",
              "       [ 1.10169964,  0.24645122, -0.70093215,  0.08380526],\n",
              "       [-0.66699737, -0.26211899, -0.70093215,  0.08380526]])"
            ]
          },
          "metadata": {
            "tags": []
          },
          "execution_count": 109
        }
      ]
    },
    {
      "cell_type": "code",
      "metadata": {
        "id": "HNam2dxrwwjS"
      },
      "source": [
        "from sklearn.model_selection import train_test_split, GridSearchCV\n",
        "from sklearn import metrics\n",
        "\n",
        "from sklearn.linear_model import LinearRegression, Ridge\n",
        "from sklearn.ensemble import RandomForestRegressor, AdaBoostRegressor\n",
        "from sklearn.svm import SVR\n",
        "import xgboost as xgb\n"
      ],
      "execution_count": 111,
      "outputs": []
    },
    {
      "cell_type": "code",
      "metadata": {
        "id": "Tird9VbGxFjB"
      },
      "source": [
        "lin_model = LinearRegression()\n",
        "ridge_model = Ridge(random_state=123)\n",
        "rf = RandomForestRegressor(random_state=123)\n",
        "ada_boost = AdaBoostRegressor(random_state=123)\n",
        "svr = SVR()\n",
        "xgb = xgb.XGBRegressor(random_state=123)\n",
        "\n",
        "models = {\n",
        "    \"lin_model\": lin_model,\n",
        "    \"ridge_model\": ridge_model,\n",
        "    \"rf_model\": rf,\n",
        "    \"ada_boost\": ada_boost,\n",
        "    \"svr\": svr,\n",
        "    \"xgb\": xgb\n",
        "}"
      ],
      "execution_count": 112,
      "outputs": []
    },
    {
      "cell_type": "code",
      "metadata": {
        "id": "ciW3Ag1FxH25"
      },
      "source": [
        "def train_model(models: dict) -> pd.DataFrame:\n",
        "    my_dict = {}\n",
        "    name_list, r_sqd_list, mae_list, rmse_list = [], [], [], []\n",
        "    for name, estimator in models.items():\n",
        "        \n",
        "        estimator.fit(X_train, y_train)\n",
        "\n",
        "        \n",
        "        y_pred = estimator.predict(X_test)\n",
        "\n",
        "        \n",
        "        r_sqd = metrics.r2_score(y_test, y_pred)\n",
        "        mae = metrics.mean_absolute_error(y_test, y_pred)\n",
        "        mse = metrics.mean_squared_error(y_test, y_pred)\n",
        "        rmse = np.sqrt(mse)\n",
        "\n",
        "        \n",
        "        name_list.append(name)\n",
        "        r_sqd_list.append(r_sqd)\n",
        "        mae_list.append(mae)\n",
        "        rmse_list.append(rmse)\n",
        "\n",
        "    my_dict[\"Name\"] = name_list\n",
        "    my_dict[\"R_squared\"] = r_sqd_list\n",
        "    my_dict[\"Mean_absolute_error\"] = mae_list\n",
        "    my_dict[\"Root_mean_sqd_error\"] = rmse_list\n",
        "\n",
        "    my_df = pd.DataFrame(my_dict)\n",
        "    my_df = my_df.sort_values(\"Root_mean_sqd_error\")\n",
        "    return my_df"
      ],
      "execution_count": 113,
      "outputs": []
    },
    {
      "cell_type": "code",
      "metadata": {
        "id": "kDjcxybpxQ1e",
        "colab": {
          "base_uri": "https://localhost:8080/",
          "height": 252
        },
        "outputId": "85acbdf2-1de4-437d-a811-880e1573b265"
      },
      "source": [
        "train_model(models)"
      ],
      "execution_count": 114,
      "outputs": [
        {
          "output_type": "stream",
          "text": [
            "[10:05:31] WARNING: /workspace/src/objective/regression_obj.cu:152: reg:linear is now deprecated in favor of reg:squarederror.\n"
          ],
          "name": "stdout"
        },
        {
          "output_type": "execute_result",
          "data": {
            "text/html": [
              "<div>\n",
              "<style scoped>\n",
              "    .dataframe tbody tr th:only-of-type {\n",
              "        vertical-align: middle;\n",
              "    }\n",
              "\n",
              "    .dataframe tbody tr th {\n",
              "        vertical-align: top;\n",
              "    }\n",
              "\n",
              "    .dataframe thead th {\n",
              "        text-align: right;\n",
              "    }\n",
              "</style>\n",
              "<table border=\"1\" class=\"dataframe\">\n",
              "  <thead>\n",
              "    <tr style=\"text-align: right;\">\n",
              "      <th></th>\n",
              "      <th>Name</th>\n",
              "      <th>R_squared</th>\n",
              "      <th>Mean_absolute_error</th>\n",
              "      <th>Root_mean_sqd_error</th>\n",
              "    </tr>\n",
              "  </thead>\n",
              "  <tbody>\n",
              "    <tr>\n",
              "      <th>2</th>\n",
              "      <td>rf_model</td>\n",
              "      <td>0.898910</td>\n",
              "      <td>1.083350e+06</td>\n",
              "      <td>2.563552e+06</td>\n",
              "    </tr>\n",
              "    <tr>\n",
              "      <th>5</th>\n",
              "      <td>xgb</td>\n",
              "      <td>0.887968</td>\n",
              "      <td>1.475387e+06</td>\n",
              "      <td>2.698720e+06</td>\n",
              "    </tr>\n",
              "    <tr>\n",
              "      <th>3</th>\n",
              "      <td>ada_boost</td>\n",
              "      <td>0.684319</td>\n",
              "      <td>3.009633e+06</td>\n",
              "      <td>4.530138e+06</td>\n",
              "    </tr>\n",
              "    <tr>\n",
              "      <th>1</th>\n",
              "      <td>ridge_model</td>\n",
              "      <td>0.157608</td>\n",
              "      <td>4.183971e+06</td>\n",
              "      <td>7.400214e+06</td>\n",
              "    </tr>\n",
              "    <tr>\n",
              "      <th>0</th>\n",
              "      <td>lin_model</td>\n",
              "      <td>0.157608</td>\n",
              "      <td>4.184007e+06</td>\n",
              "      <td>7.400216e+06</td>\n",
              "    </tr>\n",
              "    <tr>\n",
              "      <th>4</th>\n",
              "      <td>svr</td>\n",
              "      <td>-0.066601</td>\n",
              "      <td>4.378218e+06</td>\n",
              "      <td>8.326993e+06</td>\n",
              "    </tr>\n",
              "  </tbody>\n",
              "</table>\n",
              "</div>"
            ],
            "text/plain": [
              "          Name  R_squared  Mean_absolute_error  Root_mean_sqd_error\n",
              "2     rf_model   0.898910         1.083350e+06         2.563552e+06\n",
              "5          xgb   0.887968         1.475387e+06         2.698720e+06\n",
              "3    ada_boost   0.684319         3.009633e+06         4.530138e+06\n",
              "1  ridge_model   0.157608         4.183971e+06         7.400214e+06\n",
              "0    lin_model   0.157608         4.184007e+06         7.400216e+06\n",
              "4          svr  -0.066601         4.378218e+06         8.326993e+06"
            ]
          },
          "metadata": {
            "tags": []
          },
          "execution_count": 114
        }
      ]
    },
    {
      "cell_type": "markdown",
      "metadata": {
        "id": "77WRCdYgW147"
      },
      "source": [
        "**Tuning the Hyperparameters**"
      ]
    },
    {
      "cell_type": "code",
      "metadata": {
        "id": "gUgxESd2E933",
        "colab": {
          "base_uri": "https://localhost:8080/"
        },
        "outputId": "1e688c80-c3c2-4419-f819-01f236aebe4d"
      },
      "source": [
        "from pprint import pprint\n",
        "# Look at parameters used by our current forest\n",
        "print('Parameters currently in use:\\n')\n",
        "pprint(rf.get_params())"
      ],
      "execution_count": 115,
      "outputs": [
        {
          "output_type": "stream",
          "text": [
            "Parameters currently in use:\n",
            "\n",
            "{'bootstrap': True,\n",
            " 'ccp_alpha': 0.0,\n",
            " 'criterion': 'mse',\n",
            " 'max_depth': None,\n",
            " 'max_features': 'auto',\n",
            " 'max_leaf_nodes': None,\n",
            " 'max_samples': None,\n",
            " 'min_impurity_decrease': 0.0,\n",
            " 'min_impurity_split': None,\n",
            " 'min_samples_leaf': 1,\n",
            " 'min_samples_split': 2,\n",
            " 'min_weight_fraction_leaf': 0.0,\n",
            " 'n_estimators': 100,\n",
            " 'n_jobs': None,\n",
            " 'oob_score': False,\n",
            " 'random_state': 123,\n",
            " 'verbose': 0,\n",
            " 'warm_start': False}\n"
          ],
          "name": "stdout"
        }
      ]
    },
    {
      "cell_type": "markdown",
      "metadata": {
        "id": "-j7Q58dIdjX-"
      },
      "source": [
        "\n",
        "**Hyperparameter using RandomizedSearch and Cross-validation(cv)**"
      ]
    },
    {
      "cell_type": "code",
      "metadata": {
        "id": "vrNLjMG7E-0A",
        "colab": {
          "base_uri": "https://localhost:8080/"
        },
        "outputId": "807af91f-4612-49da-ea65-202ffefb81bc"
      },
      "source": [
        "from sklearn.model_selection import RandomizedSearchCV\n",
        "\n",
        "# Number of trees in random forest\n",
        "n_estimators = [int(x) for x in np.linspace(start = 200, stop = 2000, num = 10)]\n",
        "# Number of features to consider at every split\n",
        "max_features = ['auto', 'sqrt']\n",
        "# Maximum number of levels in tree\n",
        "max_depth = [int(x) for x in np.linspace(10, 110, num = 11)]\n",
        "max_depth.append(None)\n",
        "# Minimum number of samples required to split a node\n",
        "min_samples_split = [2, 5, 10]\n",
        "# Minimum number of samples required at each leaf node\n",
        "min_samples_leaf = [1, 2, 4]\n",
        "# Method of selecting samples for training each tree\n",
        "bootstrap = [True, False]\n",
        "# Create the random grid\n",
        "random_grid = {'n_estimators': n_estimators,\n",
        "               'max_features': max_features,\n",
        "               'max_depth': max_depth,\n",
        "               'min_samples_split': min_samples_split,\n",
        "               'min_samples_leaf': min_samples_leaf,\n",
        "               'bootstrap': bootstrap}\n",
        "pprint(random_grid)"
      ],
      "execution_count": 116,
      "outputs": [
        {
          "output_type": "stream",
          "text": [
            "{'bootstrap': [True, False],\n",
            " 'max_depth': [10, 20, 30, 40, 50, 60, 70, 80, 90, 100, 110, None],\n",
            " 'max_features': ['auto', 'sqrt'],\n",
            " 'min_samples_leaf': [1, 2, 4],\n",
            " 'min_samples_split': [2, 5, 10],\n",
            " 'n_estimators': [200, 400, 600, 800, 1000, 1200, 1400, 1600, 1800, 2000]}\n"
          ],
          "name": "stdout"
        }
      ]
    },
    {
      "cell_type": "code",
      "metadata": {
        "id": "OvcFygk7FDdW",
        "colab": {
          "base_uri": "https://localhost:8080/"
        },
        "outputId": "7848920a-9d32-4aa9-9b67-6096815ff683"
      },
      "source": [
        "rf_random = RandomizedSearchCV(estimator = rf, param_distributions = random_grid, n_iter = 100,\n",
        "                               cv = 3, verbose=2, random_state=123, n_jobs = -1)\n",
        "# Fit the random search model\n",
        "rf_random.fit(X_train, y_train)"
      ],
      "execution_count": 117,
      "outputs": [
        {
          "output_type": "stream",
          "text": [
            "Fitting 3 folds for each of 100 candidates, totalling 300 fits\n"
          ],
          "name": "stdout"
        },
        {
          "output_type": "stream",
          "text": [
            "[Parallel(n_jobs=-1)]: Using backend LokyBackend with 2 concurrent workers.\n",
            "/usr/local/lib/python3.7/dist-packages/joblib/externals/loky/process_executor.py:691: UserWarning: A worker stopped while some jobs were given to the executor. This can be caused by a too short worker timeout or by a memory leak.\n",
            "  \"timeout or by a memory leak.\", UserWarning\n",
            "[Parallel(n_jobs=-1)]: Done  37 tasks      | elapsed:  3.1min\n",
            "[Parallel(n_jobs=-1)]: Done 158 tasks      | elapsed: 13.4min\n",
            "[Parallel(n_jobs=-1)]: Done 300 out of 300 | elapsed: 24.9min finished\n"
          ],
          "name": "stderr"
        },
        {
          "output_type": "execute_result",
          "data": {
            "text/plain": [
              "RandomizedSearchCV(cv=3, error_score=nan,\n",
              "                   estimator=RandomForestRegressor(bootstrap=True,\n",
              "                                                   ccp_alpha=0.0,\n",
              "                                                   criterion='mse',\n",
              "                                                   max_depth=None,\n",
              "                                                   max_features='auto',\n",
              "                                                   max_leaf_nodes=None,\n",
              "                                                   max_samples=None,\n",
              "                                                   min_impurity_decrease=0.0,\n",
              "                                                   min_impurity_split=None,\n",
              "                                                   min_samples_leaf=1,\n",
              "                                                   min_samples_split=2,\n",
              "                                                   min_weight_fraction_leaf=0.0,\n",
              "                                                   n_estimators=100,\n",
              "                                                   n_jobs=None, oob_score=Fals...\n",
              "                   param_distributions={'bootstrap': [True, False],\n",
              "                                        'max_depth': [10, 20, 30, 40, 50, 60,\n",
              "                                                      70, 80, 90, 100, 110,\n",
              "                                                      None],\n",
              "                                        'max_features': ['auto', 'sqrt'],\n",
              "                                        'min_samples_leaf': [1, 2, 4],\n",
              "                                        'min_samples_split': [2, 5, 10],\n",
              "                                        'n_estimators': [200, 400, 600, 800,\n",
              "                                                         1000, 1200, 1400, 1600,\n",
              "                                                         1800, 2000]},\n",
              "                   pre_dispatch='2*n_jobs', random_state=123, refit=True,\n",
              "                   return_train_score=False, scoring=None, verbose=2)"
            ]
          },
          "metadata": {
            "tags": []
          },
          "execution_count": 117
        }
      ]
    },
    {
      "cell_type": "code",
      "metadata": {
        "id": "ruH2ifLRFJAg",
        "colab": {
          "base_uri": "https://localhost:8080/"
        },
        "outputId": "8caaab74-6ca6-4ef7-f2d0-47135eb28700"
      },
      "source": [
        "rf_random.best_params_"
      ],
      "execution_count": 118,
      "outputs": [
        {
          "output_type": "execute_result",
          "data": {
            "text/plain": [
              "{'bootstrap': False,\n",
              " 'max_depth': 20,\n",
              " 'max_features': 'sqrt',\n",
              " 'min_samples_leaf': 1,\n",
              " 'min_samples_split': 10,\n",
              " 'n_estimators': 1800}"
            ]
          },
          "metadata": {
            "tags": []
          },
          "execution_count": 118
        }
      ]
    },
    {
      "cell_type": "code",
      "metadata": {
        "id": "wCELwywHFQG2"
      },
      "source": [
        "def evaluate(model, test_features, test_labels):\n",
        "    predictions = model.predict(test_features)\n",
        "    errors = abs(predictions - test_labels)\n",
        "    mape = 100 * np.mean(errors / test_labels)\n",
        "    accuracy = 100 - mape\n",
        "    print('Model Performance')\n",
        "    print('Average Error: ₦{:0.4f}.'.format(np.mean(errors)))\n",
        "    print('Accuracy = {:0.2f}%.'.format(accuracy))\n",
        "    \n",
        "    return accuracy\n"
      ],
      "execution_count": 119,
      "outputs": []
    },
    {
      "cell_type": "code",
      "metadata": {
        "id": "8xogcLJxFZI0",
        "colab": {
          "base_uri": "https://localhost:8080/"
        },
        "outputId": "30cda228-03a2-4107-ea03-233527470549"
      },
      "source": [
        "base_model = RandomForestRegressor(n_estimators = 100, random_state = 123)\n",
        "base_model.fit(X_train, y_train)\n",
        "base_accuracy = evaluate(base_model, X_train, y_train)\n"
      ],
      "execution_count": 120,
      "outputs": [
        {
          "output_type": "stream",
          "text": [
            "Model Performance\n",
            "Average Error: ₦736399.6333.\n",
            "Accuracy = 85.99%.\n"
          ],
          "name": "stdout"
        }
      ]
    },
    {
      "cell_type": "code",
      "metadata": {
        "id": "BYmfhLAHPf2m",
        "colab": {
          "base_uri": "https://localhost:8080/"
        },
        "outputId": "fac581fa-5525-44f8-d4cf-d4ffeb5adcba"
      },
      "source": [
        "best_random = rf_random.best_estimator_\n",
        "random_accuracy = evaluate(best_random, X_train, y_train)\n"
      ],
      "execution_count": 121,
      "outputs": [
        {
          "output_type": "stream",
          "text": [
            "Model Performance\n",
            "Average Error: ₦780501.1301.\n",
            "Accuracy = 84.09%.\n"
          ],
          "name": "stdout"
        }
      ]
    },
    {
      "cell_type": "code",
      "metadata": {
        "id": "aTxd3A0xPgSH",
        "colab": {
          "base_uri": "https://localhost:8080/"
        },
        "outputId": "dceeb14f-f36b-44ea-b84c-c4fc08145190"
      },
      "source": [
        "print('Improvement of {:0.2f}%.'.format( 100 * (random_accuracy - base_accuracy) / base_accuracy))"
      ],
      "execution_count": 122,
      "outputs": [
        {
          "output_type": "stream",
          "text": [
            "Improvement of -2.21%.\n"
          ],
          "name": "stdout"
        }
      ]
    },
    {
      "cell_type": "markdown",
      "metadata": {
        "id": "WxM7tN_kdUhj"
      },
      "source": [
        "**Hyperparameter using GridSearch**"
      ]
    },
    {
      "cell_type": "code",
      "metadata": {
        "id": "9dYgAzaIPgXM"
      },
      "source": [
        "from sklearn.model_selection import GridSearchCV\n",
        "# Create the parameter grid based on the results of random search \n",
        "param_grid = {\n",
        "    'bootstrap': [True],\n",
        "    'max_depth': [80, 90, 100, 110],\n",
        "    'max_features': [2, 3],\n",
        "    'min_samples_leaf': [3, 4, 5],\n",
        "    'min_samples_split': [8, 10, 12],\n",
        "    'n_estimators': [100, 200, 300, 1000]\n",
        "}\n",
        "# Create a based model\n",
        "rf0 = RandomForestRegressor()\n",
        "# Instantiate the grid search model\n",
        "grid_search = GridSearchCV(estimator = rf0, param_grid = param_grid, \n",
        "                          cv = 3, n_jobs = -1, verbose = 2)"
      ],
      "execution_count": 123,
      "outputs": []
    },
    {
      "cell_type": "code",
      "metadata": {
        "id": "EoGBcGr-PgdM",
        "colab": {
          "base_uri": "https://localhost:8080/"
        },
        "outputId": "87fca841-4c45-43a6-b4da-4a6624b6c435"
      },
      "source": [
        "grid_search.fit(X_train, y_train)\n",
        "grid_search.best_params_"
      ],
      "execution_count": 124,
      "outputs": [
        {
          "output_type": "stream",
          "text": [
            "Fitting 3 folds for each of 288 candidates, totalling 864 fits\n"
          ],
          "name": "stdout"
        },
        {
          "output_type": "stream",
          "text": [
            "[Parallel(n_jobs=-1)]: Using backend LokyBackend with 2 concurrent workers.\n",
            "[Parallel(n_jobs=-1)]: Done  37 tasks      | elapsed:   43.1s\n",
            "[Parallel(n_jobs=-1)]: Done 158 tasks      | elapsed:  3.3min\n",
            "[Parallel(n_jobs=-1)]: Done 361 tasks      | elapsed:  7.8min\n",
            "[Parallel(n_jobs=-1)]: Done 644 tasks      | elapsed: 14.2min\n",
            "[Parallel(n_jobs=-1)]: Done 864 out of 864 | elapsed: 19.3min finished\n"
          ],
          "name": "stderr"
        },
        {
          "output_type": "execute_result",
          "data": {
            "text/plain": [
              "{'bootstrap': True,\n",
              " 'max_depth': 90,\n",
              " 'max_features': 2,\n",
              " 'min_samples_leaf': 3,\n",
              " 'min_samples_split': 8,\n",
              " 'n_estimators': 300}"
            ]
          },
          "metadata": {
            "tags": []
          },
          "execution_count": 124
        }
      ]
    },
    {
      "cell_type": "code",
      "metadata": {
        "id": "feNgGH9Wb5I2"
      },
      "source": [
        "best_grid0 = grid_search.best_estimator_\n",
        "grid_accuracy = evaluate(best_grid0, X_train, y_train)"
      ],
      "execution_count": null,
      "outputs": []
    },
    {
      "cell_type": "code",
      "metadata": {
        "id": "N-NVr-Wle2CS"
      },
      "source": [
        "y_pred = best_random.predict(X_test)"
      ],
      "execution_count": 126,
      "outputs": []
    },
    {
      "cell_type": "code",
      "metadata": {
        "id": "C-nvYwiDe74G",
        "colab": {
          "base_uri": "https://localhost:8080/",
          "height": 793
        },
        "outputId": "70073ef0-0332-488a-927f-a77d7e01263c"
      },
      "source": [
        "import matplotlib.pyplot as plt\n",
        "import seaborn as sns\n",
        "\n",
        "#Residual Plot\n",
        "residual = y_test - y_pred\n",
        "\n",
        "plt.figure(figsize=(8, 6))\n",
        "sns.histplot(residual, kde=True)\n",
        "plt.title(\"Residual Plot\", size=15)\n",
        "\n",
        "plt.show()\n"
      ],
      "execution_count": 127,
      "outputs": [
        {
          "output_type": "display_data",
          "data": {
            "image/png": "[encoded data removed]",
            "text/plain": [
              "<Figure size 576x432 with 1 Axes>"
            ]
          },
          "metadata": {
            "tags": [],
            "needs_background": "light"
          }
        },
        {
          "output_type": "display_data",
          "data": {
            "image/png": "[encoded data removed]",
            "text/plain": [
              "<Figure size 576x432 with 1 Axes>"
            ]
          },
          "metadata": {
            "tags": [],
            "needs_background": "light"
          }
        }
      ]
    },
    {
      "cell_type": "code",
      "metadata": {
        "id": "_kylexiEcD50"
      },
      "source": [
        "y_pred0 = best_grid0.predict(X_test)"
      ],
      "execution_count": 128,
      "outputs": []
    },
    {
      "cell_type": "code",
      "metadata": {
        "id": "gpBCtiS4fXCv",
        "colab": {
          "base_uri": "https://localhost:8080/",
          "height": 793
        },
        "outputId": "edd415ea-2cde-4905-c783-d29fdfc75ec2"
      },
      "source": [
        "#Residual Plot\n",
        "residual = y_test - y_pred0\n",
        "\n",
        "plt.figure(figsize=(8, 6))\n",
        "sns.histplot(residual, kde=True)\n",
        "plt.title(\"Residual Plot\", size=15)\n",
        "\n",
        "plt.show()\n"
      ],
      "execution_count": 129,
      "outputs": [
        {
          "output_type": "display_data",
          "data": {
            "image/png": "[encoded data removed]",
            "text/plain": [
              "<Figure size 576x432 with 1 Axes>"
            ]
          },
          "metadata": {
            "tags": [],
            "needs_background": "light"
          }
        },
        {
          "output_type": "display_data",
          "data": {
            "image/png": "[encoded data removed]",
            "text/plain": [
              "<Figure size 576x432 with 1 Axes>"
            ]
          },
          "metadata": {
            "tags": [],
            "needs_background": "light"
          }
        }
      ]
    },
    {
      "cell_type": "markdown",
      "metadata": {
        "id": "jDC3oOusg9_I"
      },
      "source": [
        "**NEW PREDICTIONS**"
      ]
    },
    {
      "cell_type": "code",
      "metadata": {
        "id": "LWKhwbJWhdIB",
        "colab": {
          "base_uri": "https://localhost:8080/",
          "height": 391
        },
        "outputId": "57f9abed-7c24-406c-e992-6ed1ffe694bc"
      },
      "source": [
        "df.sample(5, random_state=123)"
      ],
      "execution_count": 130,
      "outputs": [
        {
          "output_type": "execute_result",
          "data": {
            "text/html": [
              "<div>\n",
              "<style scoped>\n",
              "    .dataframe tbody tr th:only-of-type {\n",
              "        vertical-align: middle;\n",
              "    }\n",
              "\n",
              "    .dataframe tbody tr th {\n",
              "        vertical-align: top;\n",
              "    }\n",
              "\n",
              "    .dataframe thead th {\n",
              "        text-align: right;\n",
              "    }\n",
              "</style>\n",
              "<table border=\"1\" class=\"dataframe\">\n",
              "  <thead>\n",
              "    <tr style=\"text-align: right;\">\n",
              "      <th></th>\n",
              "      <th>Name</th>\n",
              "      <th>Price</th>\n",
              "      <th>Mileage</th>\n",
              "      <th>Condition</th>\n",
              "      <th>Year</th>\n",
              "      <th>locations</th>\n",
              "    </tr>\n",
              "  </thead>\n",
              "  <tbody>\n",
              "    <tr>\n",
              "      <th>1980</th>\n",
              "      <td>Toyota Highlander</td>\n",
              "      <td>13515000</td>\n",
              "      <td>20820.0</td>\n",
              "      <td>Foreign Used</td>\n",
              "      <td>2016</td>\n",
              "      <td>Anthony, Lagos</td>\n",
              "    </tr>\n",
              "    <tr>\n",
              "      <th>646</th>\n",
              "      <td>Lexus RX 350</td>\n",
              "      <td>7765000</td>\n",
              "      <td>137471.0</td>\n",
              "      <td>Foreign Used</td>\n",
              "      <td>2010</td>\n",
              "      <td>Festac, Lagos</td>\n",
              "    </tr>\n",
              "    <tr>\n",
              "      <th>5544</th>\n",
              "      <td>Lexus ES 350</td>\n",
              "      <td>50015000</td>\n",
              "      <td>72443.0</td>\n",
              "      <td>Foreign Used</td>\n",
              "      <td>2011</td>\n",
              "      <td>Festac, Lagos</td>\n",
              "    </tr>\n",
              "    <tr>\n",
              "      <th>1435</th>\n",
              "      <td>Toyota Camry</td>\n",
              "      <td>2797500</td>\n",
              "      <td>282613.0</td>\n",
              "      <td>Foreign Used</td>\n",
              "      <td>2006</td>\n",
              "      <td>Lagos, Lagos</td>\n",
              "    </tr>\n",
              "    <tr>\n",
              "      <th>2147</th>\n",
              "      <td>Lexus ES 350</td>\n",
              "      <td>2815000</td>\n",
              "      <td>98219.0</td>\n",
              "      <td>Foreign Used</td>\n",
              "      <td>2013</td>\n",
              "      <td>Ikate, Lekki, Lagos</td>\n",
              "    </tr>\n",
              "  </tbody>\n",
              "</table>\n",
              "</div>"
            ],
            "text/plain": [
              "                   Name     Price  ...  Year            locations\n",
              "1980  Toyota Highlander  13515000  ...  2016       Anthony, Lagos\n",
              "646        Lexus RX 350   7765000  ...  2010        Festac, Lagos\n",
              "5544       Lexus ES 350  50015000  ...  2011        Festac, Lagos\n",
              "1435       Toyota Camry   2797500  ...  2006         Lagos, Lagos\n",
              "2147       Lexus ES 350   2815000  ...  2013  Ikate, Lekki, Lagos\n",
              "\n",
              "[5 rows x 6 columns]"
            ]
          },
          "metadata": {
            "tags": []
          },
          "execution_count": 130
        },
        {
          "output_type": "execute_result",
          "data": {
            "text/html": [
              "<div>\n",
              "<style scoped>\n",
              "    .dataframe tbody tr th:only-of-type {\n",
              "        vertical-align: middle;\n",
              "    }\n",
              "\n",
              "    .dataframe tbody tr th {\n",
              "        vertical-align: top;\n",
              "    }\n",
              "\n",
              "    .dataframe thead th {\n",
              "        text-align: right;\n",
              "    }\n",
              "</style>\n",
              "<table border=\"1\" class=\"dataframe\">\n",
              "  <thead>\n",
              "    <tr style=\"text-align: right;\">\n",
              "      <th></th>\n",
              "      <th>Name</th>\n",
              "      <th>Price</th>\n",
              "      <th>Mileage</th>\n",
              "      <th>Condition</th>\n",
              "      <th>Year</th>\n",
              "      <th>locations</th>\n",
              "    </tr>\n",
              "  </thead>\n",
              "  <tbody>\n",
              "    <tr>\n",
              "      <th>1980</th>\n",
              "      <td>Toyota Highlander</td>\n",
              "      <td>13515000</td>\n",
              "      <td>20820.0</td>\n",
              "      <td>Foreign Used</td>\n",
              "      <td>2016</td>\n",
              "      <td>Anthony, Lagos</td>\n",
              "    </tr>\n",
              "    <tr>\n",
              "      <th>646</th>\n",
              "      <td>Lexus RX 350</td>\n",
              "      <td>7765000</td>\n",
              "      <td>137471.0</td>\n",
              "      <td>Foreign Used</td>\n",
              "      <td>2010</td>\n",
              "      <td>Festac, Lagos</td>\n",
              "    </tr>\n",
              "    <tr>\n",
              "      <th>5544</th>\n",
              "      <td>Lexus ES 350</td>\n",
              "      <td>50015000</td>\n",
              "      <td>72443.0</td>\n",
              "      <td>Foreign Used</td>\n",
              "      <td>2011</td>\n",
              "      <td>Festac, Lagos</td>\n",
              "    </tr>\n",
              "    <tr>\n",
              "      <th>1435</th>\n",
              "      <td>Toyota Camry</td>\n",
              "      <td>2797500</td>\n",
              "      <td>282613.0</td>\n",
              "      <td>Foreign Used</td>\n",
              "      <td>2006</td>\n",
              "      <td>Lagos, Lagos</td>\n",
              "    </tr>\n",
              "    <tr>\n",
              "      <th>2147</th>\n",
              "      <td>Lexus ES 350</td>\n",
              "      <td>2815000</td>\n",
              "      <td>98219.0</td>\n",
              "      <td>Foreign Used</td>\n",
              "      <td>2013</td>\n",
              "      <td>Ikate, Lekki, Lagos</td>\n",
              "    </tr>\n",
              "  </tbody>\n",
              "</table>\n",
              "</div>"
            ],
            "text/plain": [
              "                   Name     Price  ...  Year            locations\n",
              "1980  Toyota Highlander  13515000  ...  2016       Anthony, Lagos\n",
              "646        Lexus RX 350   7765000  ...  2010        Festac, Lagos\n",
              "5544       Lexus ES 350  50015000  ...  2011        Festac, Lagos\n",
              "1435       Toyota Camry   2797500  ...  2006         Lagos, Lagos\n",
              "2147       Lexus ES 350   2815000  ...  2013  Ikate, Lekki, Lagos\n",
              "\n",
              "[5 rows x 6 columns]"
            ]
          },
          "metadata": {
            "tags": []
          },
          "execution_count": 130
        }
      ]
    },
    {
      "cell_type": "code",
      "metadata": {
        "id": "HYtjjYX9g7o-",
        "colab": {
          "base_uri": "https://localhost:8080/"
        },
        "outputId": "d7923e3d-3e64-4f7d-f100-9fad0687b3b2"
      },
      "source": [
        "#Name\tPrice\tMileage\tCondition\tYear\tlocations\n",
        "new_data = [[\"Lexus ES 350\", 72443.0, \"Foreign Used\", 2011]]\n",
        "# convert to array\n",
        "new_data = np.array(new_data)\n",
        "new_data"
      ],
      "execution_count": 131,
      "outputs": [
        {
          "output_type": "execute_result",
          "data": {
            "text/plain": [
              "array([['Lexus ES 350', '72443.0', 'Foreign Used', '2011']], dtype='<U12')"
            ]
          },
          "metadata": {
            "tags": []
          },
          "execution_count": 131
        },
        {
          "output_type": "execute_result",
          "data": {
            "text/plain": [
              "array([['Lexus ES 350', '72443.0', 'Foreign Used', '2011']], dtype='<U12')"
            ]
          },
          "metadata": {
            "tags": []
          },
          "execution_count": 131
        }
      ]
    },
    {
      "cell_type": "code",
      "metadata": {
        "id": "yNJylh8GjG6M",
        "colab": {
          "base_uri": "https://localhost:8080/"
        },
        "outputId": "fe2eb44e-a1f4-4562-e2d1-6a9fa5d105df"
      },
      "source": [
        "new_data[:, 0] = le_Name.transform(new_data[:, 0])\n",
        "new_data[:, 2] = le_Condition.transform(new_data[:, 2])\n",
        "new_data"
      ],
      "execution_count": 132,
      "outputs": [
        {
          "output_type": "execute_result",
          "data": {
            "text/plain": [
              "array([['199', '72443.0', '1', '2011']], dtype='<U12')"
            ]
          },
          "metadata": {
            "tags": []
          },
          "execution_count": 132
        },
        {
          "output_type": "execute_result",
          "data": {
            "text/plain": [
              "array([['199', '72443.0', '1', '2011']], dtype='<U12')"
            ]
          },
          "metadata": {
            "tags": []
          },
          "execution_count": 132
        }
      ]
    },
    {
      "cell_type": "code",
      "metadata": {
        "id": "_AUE6_NQjpCN",
        "colab": {
          "base_uri": "https://localhost:8080/"
        },
        "outputId": "6ce81e6d-e1e7-449c-916b-e8ed5e2b6bd8"
      },
      "source": [
        "new_data = sc.transform(new_data)\n",
        "new_data"
      ],
      "execution_count": 133,
      "outputs": [
        {
          "output_type": "execute_result",
          "data": {
            "text/plain": [
              "array([[-0.87507937, -0.56364989, -0.70093215,  0.05206261]])"
            ]
          },
          "metadata": {
            "tags": []
          },
          "execution_count": 133
        },
        {
          "output_type": "execute_result",
          "data": {
            "text/plain": [
              "array([[-0.87507937, -0.56364989, -0.70093215,  0.05206261]])"
            ]
          },
          "metadata": {
            "tags": []
          },
          "execution_count": 133
        }
      ]
    },
    {
      "cell_type": "code",
      "metadata": {
        "id": "PgpZnaixj1Xs",
        "colab": {
          "base_uri": "https://localhost:8080/"
        },
        "outputId": "be6dd215-e43e-4e58-d9cf-822b0f6652fd"
      },
      "source": [
        "price = best_grid0.predict(new_data)\n",
        "price = round(price[0])  # round to the neaarest Naira\n",
        "\n",
        "print(f\"The estimated cost of the Car is NGN {price:,}\")\n"
      ],
      "execution_count": 134,
      "outputs": [
        {
          "output_type": "stream",
          "text": [
            "The estimated cost of the Car is NGN 49,445,247\n",
            "The estimated cost of the Car is NGN 49,445,247\n"
          ],
          "name": "stdout"
        }
      ]
    },
    {
      "cell_type": "markdown",
      "metadata": {
        "id": "BWEQp608lJSh"
      },
      "source": [
        "**SAVING THE MODEL AS A PICKLE FILE**"
      ]
    },
    {
      "cell_type": "code",
      "metadata": {
        "id": "MCoSgcElk8EX"
      },
      "source": [
        "import pickle\n",
        "\n",
        "model = {}\n",
        "model[\"model0\"] = best_grid0\n",
        "model[\"Name\"] = le_Name\n",
        "model[\"Condition\"] = le_Condition\n",
        "model[\"Standard_Scalar\"] = sc\n",
        "model[\"Average_error\"] = 997124.4961\n",
        "\n",
        "with open(\"./drive/My Drive/Colab Notebooks/Group_estimator.pkl\", \"wb\") as f:\n",
        "    pickle.dump(model, f)"
      ],
      "execution_count": 135,
      "outputs": []
    },
    {
      "cell_type": "code",
      "metadata": {
        "id": "zamnwP1dlacG"
      },
      "source": [
        "# load the model\n",
        "with open(\"./drive/My Drive/Colab Notebooks/Group_estimator.pkl\", \"rb\") as f:\n",
        "    loaded_model = pickle.load(f)"
      ],
      "execution_count": 136,
      "outputs": []
    },
    {
      "cell_type": "markdown",
      "metadata": {
        "id": "pckI7FR6rDyZ"
      },
      "source": [
        "**Testing the Model**"
      ]
    },
    {
      "cell_type": "code",
      "metadata": {
        "id": "fjyi_ZyFljLx"
      },
      "source": [
        "RF = loaded_model[\"model0\"]  # regressor\n",
        "Name = loaded_model[\"Name\"]  # Name label encoder\n",
        "Condition = loaded_model[\"Condition\"] #Name label encoder\n",
        "Standard_Scalar = loaded_model[\"Standard_Scalar\"]  # location label encoder\n",
        "Average_error = loaded_model[\"Average_error\"]  # location label encoder"
      ],
      "execution_count": 137,
      "outputs": []
    },
    {
      "cell_type": "code",
      "metadata": {
        "id": "7aYA763vlkVf"
      },
      "source": [
        "# type, address, bed, bath, toilet, pkn_space\n",
        "new_data0 = [[\"Lexus ES 350\", 72443.0, \"Foreign Used\", 2011]]\n",
        "# convert to array\n",
        "new_data0 = np.array(new_data0)"
      ],
      "execution_count": 138,
      "outputs": []
    },
    {
      "cell_type": "code",
      "metadata": {
        "id": "LwYdngNgpYpB",
        "colab": {
          "base_uri": "https://localhost:8080/"
        },
        "outputId": "85fcfbab-9095-44e1-e667-4271fc1cf8ed"
      },
      "source": [
        "new_data0[:, 0] = Name.transform(new_data0[:, 0])\n",
        "new_data0[:, 2] = Condition.transform(new_data0[:, 2])\n",
        "new_data0"
      ],
      "execution_count": 139,
      "outputs": [
        {
          "output_type": "execute_result",
          "data": {
            "text/plain": [
              "array([['199', '72443.0', '1', '2011']], dtype='<U12')"
            ]
          },
          "metadata": {
            "tags": []
          },
          "execution_count": 139
        },
        {
          "output_type": "execute_result",
          "data": {
            "text/plain": [
              "array([['199', '72443.0', '1', '2011']], dtype='<U12')"
            ]
          },
          "metadata": {
            "tags": []
          },
          "execution_count": 139
        }
      ]
    },
    {
      "cell_type": "code",
      "metadata": {
        "id": "d7JMILtwpqPS",
        "colab": {
          "base_uri": "https://localhost:8080/"
        },
        "outputId": "259c17e4-097b-4994-ee11-632d9f55d6ef"
      },
      "source": [
        "new_data0 = Standard_Scalar.transform(new_data0)\n",
        "new_data0"
      ],
      "execution_count": 140,
      "outputs": [
        {
          "output_type": "execute_result",
          "data": {
            "text/plain": [
              "array([[-0.87507937, -0.56364989, -0.70093215,  0.05206261]])"
            ]
          },
          "metadata": {
            "tags": []
          },
          "execution_count": 140
        },
        {
          "output_type": "execute_result",
          "data": {
            "text/plain": [
              "array([[-0.87507937, -0.56364989, -0.70093215,  0.05206261]])"
            ]
          },
          "metadata": {
            "tags": []
          },
          "execution_count": 140
        }
      ]
    },
    {
      "cell_type": "code",
      "metadata": {
        "id": "_9giR-Efp3mp",
        "colab": {
          "base_uri": "https://localhost:8080/"
        },
        "outputId": "4041d9ed-1a14-4946-9f7c-23d561c30795"
      },
      "source": [
        "price0 = RF.predict(new_data)\n",
        "price0 = round(price0[0])  # round to the neaarest Naira\n",
        "price_a = Average_error+price0\n",
        "price_b = price0-Average_error\n",
        "print(f\"The estimated cost of the Car is NGN{price_a:,} - NGN{price_b:,}\")"
      ],
      "execution_count": 142,
      "outputs": [
        {
          "output_type": "stream",
          "text": [
            "The estimated cost of the Car is NGN50,442,371.4961 - NGN48,448,122.5039\n"
          ],
          "name": "stdout"
        }
      ]
    }
  ]
}