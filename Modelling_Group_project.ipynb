{
  "nbformat": 4,
  "nbformat_minor": 0,
  "metadata": {
    "colab": {
      "name": "Modelling_Group_project.ipynb",
      "provenance": [],
      "collapsed_sections": [],
      "mount_file_id": "1za6z_i-HJxc7pTUITRwjxW5HLAqwnt6W",
      "authorship_tag": "ABX9TyOXqz8VfDyaSl3bi9KAsRzz",
      "include_colab_link": true
    },
    "kernelspec": {
      "name": "python3",
      "display_name": "Python 3"
    },
    "language_info": {
      "name": "python"
    }
  },
  "cells": [
    {
      "cell_type": "markdown",
      "metadata": {
        "id": "view-in-github",
        "colab_type": "text"
      },
      "source": [
        "<a href=\"https://colab.research.google.com/github/menaenahoro/Stutern_Group_Project/blob/main/Modelling_Group_project.ipynb\" target=\"_parent\"><img src=\"https://colab.research.google.com/assets/colab-badge.svg\" alt=\"Open In Colab\"/></a>"
      ]
    },
    {
      "cell_type": "code",
      "metadata": {
        "colab": {
          "base_uri": "https://localhost:8080/",
          "height": 204
        },
        "id": "7zZp1hPuwLyY",
        "outputId": "ccd5f8b3-1868-444a-dc13-a826e9f90e05"
      },
      "source": [
        "import pandas as pd\n",
        "import numpy as np\n",
        "import re\n",
        "df = pd.read_csv(\"/content/drive/MyDrive/Colab Notebooks/Autochek_web_data.csv\",index_col=0)\n",
        "df.head()\n"
      ],
      "execution_count": 1,
      "outputs": [
        {
          "output_type": "execute_result",
          "data": {
            "text/html": [
              "<div>\n",
              "<style scoped>\n",
              "    .dataframe tbody tr th:only-of-type {\n",
              "        vertical-align: middle;\n",
              "    }\n",
              "\n",
              "    .dataframe tbody tr th {\n",
              "        vertical-align: top;\n",
              "    }\n",
              "\n",
              "    .dataframe thead th {\n",
              "        text-align: right;\n",
              "    }\n",
              "</style>\n",
              "<table border=\"1\" class=\"dataframe\">\n",
              "  <thead>\n",
              "    <tr style=\"text-align: right;\">\n",
              "      <th></th>\n",
              "      <th>Name</th>\n",
              "      <th>Price</th>\n",
              "      <th>Mileage</th>\n",
              "      <th>Condition</th>\n",
              "      <th>Year</th>\n",
              "      <th>locations</th>\n",
              "    </tr>\n",
              "  </thead>\n",
              "  <tbody>\n",
              "    <tr>\n",
              "      <th>0</th>\n",
              "      <td>Lexus LX 570</td>\n",
              "      <td>₦ 50,015,000</td>\n",
              "      <td>21,204 km</td>\n",
              "      <td>Foreign Used</td>\n",
              "      <td>2018</td>\n",
              "      <td>Ikate, Lekki, Lagos</td>\n",
              "    </tr>\n",
              "    <tr>\n",
              "      <th>1</th>\n",
              "      <td>Toyota Camry</td>\n",
              "      <td>₦ 5,015,000</td>\n",
              "      <td>140,309 km</td>\n",
              "      <td>Foreign Used</td>\n",
              "      <td>2013</td>\n",
              "      <td>Ikorodu, Lagos</td>\n",
              "    </tr>\n",
              "    <tr>\n",
              "      <th>2</th>\n",
              "      <td>Toyota Venza</td>\n",
              "      <td>₦ 7,115,000</td>\n",
              "      <td>172,709 km</td>\n",
              "      <td>Foreign Used</td>\n",
              "      <td>2013</td>\n",
              "      <td>Ipaja, Lagos</td>\n",
              "    </tr>\n",
              "    <tr>\n",
              "      <th>3</th>\n",
              "      <td>Mercedes-Benz C 350</td>\n",
              "      <td>₦ 4,815,000</td>\n",
              "      <td>114,936 km</td>\n",
              "      <td>Foreign Used</td>\n",
              "      <td>2010</td>\n",
              "      <td>New road, Lekki, Lagos</td>\n",
              "    </tr>\n",
              "    <tr>\n",
              "      <th>4</th>\n",
              "      <td>Toyota Lexus RX 450h</td>\n",
              "      <td>₦ 8,515,000</td>\n",
              "      <td>77,012 mi</td>\n",
              "      <td>Foreign Used</td>\n",
              "      <td>2012</td>\n",
              "      <td>New road, Lekki, Lagos</td>\n",
              "    </tr>\n",
              "  </tbody>\n",
              "</table>\n",
              "</div>"
            ],
            "text/plain": [
              "                   Name         Price  ...  Year               locations\n",
              "0          Lexus LX 570  ₦ 50,015,000  ...  2018     Ikate, Lekki, Lagos\n",
              "1          Toyota Camry   ₦ 5,015,000  ...  2013          Ikorodu, Lagos\n",
              "2          Toyota Venza   ₦ 7,115,000  ...  2013            Ipaja, Lagos\n",
              "3   Mercedes-Benz C 350   ₦ 4,815,000  ...  2010  New road, Lekki, Lagos\n",
              "4  Toyota Lexus RX 450h   ₦ 8,515,000  ...  2012  New road, Lekki, Lagos\n",
              "\n",
              "[5 rows x 6 columns]"
            ]
          },
          "metadata": {
            "tags": []
          },
          "execution_count": 1
        }
      ]
    },
    {
      "cell_type": "code",
      "metadata": {
        "colab": {
          "base_uri": "https://localhost:8080/"
        },
        "id": "rcUuxVpqwoqI",
        "outputId": "12ae0546-a6ee-41ca-cb2d-523790bf6f5b"
      },
      "source": [
        "df.locations.value_counts()"
      ],
      "execution_count": 2,
      "outputs": [
        {
          "output_type": "execute_result",
          "data": {
            "text/plain": [
              "Festac, Lagos             1952\n",
              "Ikate, Lekki, Lagos       1098\n",
              "Gwarinpa, Abuja            610\n",
              "Lagos, Lagos               610\n",
              "Surulere, Lagos            366\n",
              "Jahi, Abuja                244\n",
              "New road, Lekki, Lagos     244\n",
              "Anthony, Lagos             244\n",
              "Ipaja, Lagos               122\n",
              "Kubwa Express, Abuja       122\n",
              "Ikorodu, Lagos             122\n",
              "Berger Mkt, Lagos          122\n",
              "Name: locations, dtype: int64"
            ]
          },
          "metadata": {
            "tags": []
          },
          "execution_count": 2
        }
      ]
    },
    {
      "cell_type": "markdown",
      "metadata": {
        "id": "d8hj8yiYrGSx"
      },
      "source": [
        "**PREPROCESSING**"
      ]
    },
    {
      "cell_type": "code",
      "metadata": {
        "colab": {
          "base_uri": "https://localhost:8080/"
        },
        "id": "L2wTJHK3Gl9N",
        "outputId": "65febcc8-0313-4f99-ccfa-0af1361b8b81"
      },
      "source": [
        "'''firstly I'm going to split the words using ',' which would produce ['122323', 'km'] or ['12345', 'mi']'''\n",
        "def Get_word(i):\n",
        "  ban = i.split(\" \")\n",
        "  return ban\n",
        "\n",
        "df['Mileage'] = df.apply(lambda row: Get_word(row['Mileage']), axis=1)\n",
        "\n",
        "'''Then we filter the rows with 'mi' and convert then to 'km' '''\n",
        "def Prep_word(i):\n",
        "  bag = i[0]\n",
        "  bag = bag.split(\",\")\n",
        "  bag = bag[0]+bag[1]\n",
        "  bag = int(bag)\n",
        "  if i[-1]==\"km\":\n",
        "    return bag\n",
        "  elif i[-1]==\"mi\":\n",
        "    return (bag*1.60934)\n",
        "\n",
        "df['Mileage'] = df.apply(lambda row: Prep_word(row['Mileage']), axis=1)\n",
        "df['Mileage'] = round(df['Mileage'], ndigits=1)\n",
        "df['Mileage']"
      ],
      "execution_count": 3,
      "outputs": [
        {
          "output_type": "execute_result",
          "data": {
            "text/plain": [
              "0        21204.0\n",
              "1       140309.0\n",
              "2       172709.0\n",
              "3       114936.0\n",
              "4       123938.5\n",
              "          ...   \n",
              "5851    282613.0\n",
              "5852     71584.0\n",
              "5853    112019.0\n",
              "5854     98697.0\n",
              "5855    106800.0\n",
              "Name: Mileage, Length: 5856, dtype: float64"
            ]
          },
          "metadata": {
            "tags": []
          },
          "execution_count": 3
        }
      ]
    },
    {
      "cell_type": "code",
      "metadata": {
        "colab": {
          "base_uri": "https://localhost:8080/"
        },
        "id": "Gr7aZw-uLVOi",
        "outputId": "1783bf5c-8475-4ac3-8761-b379545e9e9b"
      },
      "source": [
        "'''firstly I'm going to split the words using ',' which would produce ['122323', 'km'] or ['12345', 'mi']'''\n",
        "def Get_Price(i):\n",
        "  ban = i.split(\" \")\n",
        "  price = ban[-1]\n",
        "  price = price.split(\",\")\n",
        "  price = price[0]+price[1]+price[2]\n",
        "  return int(price)\n",
        "\n",
        "df['Price'] = df.apply(lambda row: Get_Price(row['Price']), axis=1)\n",
        "df['Price']"
      ],
      "execution_count": 4,
      "outputs": [
        {
          "output_type": "execute_result",
          "data": {
            "text/plain": [
              "0       50015000\n",
              "1        5015000\n",
              "2        7115000\n",
              "3        4815000\n",
              "4        8515000\n",
              "          ...   \n",
              "5851     2797500\n",
              "5852     6515000\n",
              "5853     5680000\n",
              "5854     8770000\n",
              "5855     9285000\n",
              "Name: Price, Length: 5856, dtype: int64"
            ]
          },
          "metadata": {
            "tags": []
          },
          "execution_count": 4
        }
      ]
    },
    {
      "cell_type": "code",
      "metadata": {
        "colab": {
          "base_uri": "https://localhost:8080/",
          "height": 204
        },
        "id": "JqTH_G9HNcNt",
        "outputId": "b4c7e091-1602-4d75-dcd1-8b8963ad6dfa"
      },
      "source": [
        "nume_data = df.select_dtypes(include=[np.number])\n",
        "nume_data.head()"
      ],
      "execution_count": 5,
      "outputs": [
        {
          "output_type": "execute_result",
          "data": {
            "text/html": [
              "<div>\n",
              "<style scoped>\n",
              "    .dataframe tbody tr th:only-of-type {\n",
              "        vertical-align: middle;\n",
              "    }\n",
              "\n",
              "    .dataframe tbody tr th {\n",
              "        vertical-align: top;\n",
              "    }\n",
              "\n",
              "    .dataframe thead th {\n",
              "        text-align: right;\n",
              "    }\n",
              "</style>\n",
              "<table border=\"1\" class=\"dataframe\">\n",
              "  <thead>\n",
              "    <tr style=\"text-align: right;\">\n",
              "      <th></th>\n",
              "      <th>Price</th>\n",
              "      <th>Mileage</th>\n",
              "      <th>Year</th>\n",
              "    </tr>\n",
              "  </thead>\n",
              "  <tbody>\n",
              "    <tr>\n",
              "      <th>0</th>\n",
              "      <td>50015000</td>\n",
              "      <td>21204.0</td>\n",
              "      <td>2018</td>\n",
              "    </tr>\n",
              "    <tr>\n",
              "      <th>1</th>\n",
              "      <td>5015000</td>\n",
              "      <td>140309.0</td>\n",
              "      <td>2013</td>\n",
              "    </tr>\n",
              "    <tr>\n",
              "      <th>2</th>\n",
              "      <td>7115000</td>\n",
              "      <td>172709.0</td>\n",
              "      <td>2013</td>\n",
              "    </tr>\n",
              "    <tr>\n",
              "      <th>3</th>\n",
              "      <td>4815000</td>\n",
              "      <td>114936.0</td>\n",
              "      <td>2010</td>\n",
              "    </tr>\n",
              "    <tr>\n",
              "      <th>4</th>\n",
              "      <td>8515000</td>\n",
              "      <td>123938.5</td>\n",
              "      <td>2012</td>\n",
              "    </tr>\n",
              "  </tbody>\n",
              "</table>\n",
              "</div>"
            ],
            "text/plain": [
              "      Price   Mileage  Year\n",
              "0  50015000   21204.0  2018\n",
              "1   5015000  140309.0  2013\n",
              "2   7115000  172709.0  2013\n",
              "3   4815000  114936.0  2010\n",
              "4   8515000  123938.5  2012"
            ]
          },
          "metadata": {
            "tags": []
          },
          "execution_count": 5
        }
      ]
    },
    {
      "cell_type": "code",
      "metadata": {
        "colab": {
          "base_uri": "https://localhost:8080/",
          "height": 204
        },
        "id": "X20I7RxDo99L",
        "outputId": "cc6e45c1-4f0e-45f1-a11a-da202b18225a"
      },
      "source": [
        "cate_data = df.select_dtypes(exclude=[np.number])\n",
        "cate_data.head()"
      ],
      "execution_count": 6,
      "outputs": [
        {
          "output_type": "execute_result",
          "data": {
            "text/html": [
              "<div>\n",
              "<style scoped>\n",
              "    .dataframe tbody tr th:only-of-type {\n",
              "        vertical-align: middle;\n",
              "    }\n",
              "\n",
              "    .dataframe tbody tr th {\n",
              "        vertical-align: top;\n",
              "    }\n",
              "\n",
              "    .dataframe thead th {\n",
              "        text-align: right;\n",
              "    }\n",
              "</style>\n",
              "<table border=\"1\" class=\"dataframe\">\n",
              "  <thead>\n",
              "    <tr style=\"text-align: right;\">\n",
              "      <th></th>\n",
              "      <th>Name</th>\n",
              "      <th>Condition</th>\n",
              "      <th>locations</th>\n",
              "    </tr>\n",
              "  </thead>\n",
              "  <tbody>\n",
              "    <tr>\n",
              "      <th>0</th>\n",
              "      <td>Lexus LX 570</td>\n",
              "      <td>Foreign Used</td>\n",
              "      <td>Ikate, Lekki, Lagos</td>\n",
              "    </tr>\n",
              "    <tr>\n",
              "      <th>1</th>\n",
              "      <td>Toyota Camry</td>\n",
              "      <td>Foreign Used</td>\n",
              "      <td>Ikorodu, Lagos</td>\n",
              "    </tr>\n",
              "    <tr>\n",
              "      <th>2</th>\n",
              "      <td>Toyota Venza</td>\n",
              "      <td>Foreign Used</td>\n",
              "      <td>Ipaja, Lagos</td>\n",
              "    </tr>\n",
              "    <tr>\n",
              "      <th>3</th>\n",
              "      <td>Mercedes-Benz C 350</td>\n",
              "      <td>Foreign Used</td>\n",
              "      <td>New road, Lekki, Lagos</td>\n",
              "    </tr>\n",
              "    <tr>\n",
              "      <th>4</th>\n",
              "      <td>Toyota Lexus RX 450h</td>\n",
              "      <td>Foreign Used</td>\n",
              "      <td>New road, Lekki, Lagos</td>\n",
              "    </tr>\n",
              "  </tbody>\n",
              "</table>\n",
              "</div>"
            ],
            "text/plain": [
              "                   Name     Condition               locations\n",
              "0          Lexus LX 570  Foreign Used     Ikate, Lekki, Lagos\n",
              "1          Toyota Camry  Foreign Used          Ikorodu, Lagos\n",
              "2          Toyota Venza  Foreign Used            Ipaja, Lagos\n",
              "3   Mercedes-Benz C 350  Foreign Used  New road, Lekki, Lagos\n",
              "4  Toyota Lexus RX 450h  Foreign Used  New road, Lekki, Lagos"
            ]
          },
          "metadata": {
            "tags": []
          },
          "execution_count": 6
        }
      ]
    },
    {
      "cell_type": "code",
      "metadata": {
        "id": "AyEj0kFiGFim"
      },
      "source": [
        "from sklearn.preprocessing import LabelEncoder"
      ],
      "execution_count": 7,
      "outputs": []
    },
    {
      "cell_type": "code",
      "metadata": {
        "colab": {
          "base_uri": "https://localhost:8080/",
          "height": 204
        },
        "id": "JLQMT_m-GZ6X",
        "outputId": "12f5dfd7-5972-4e9f-a526-65dfeac576b5"
      },
      "source": [
        "df2 = df.copy()\n",
        "\n",
        "# encode the categorical data\n",
        "le_Name = LabelEncoder()\n",
        "le_Condition = LabelEncoder()\n",
        "le_location = LabelEncoder()\n",
        "df2[\"Name\"] = le_Name.fit_transform(df2[\"Name\"])\n",
        "df2[\"Condition\"] = le_Condition.fit_transform(df2[\"Condition\"])\n",
        "df2[\"locations\"] = le_location.fit_transform(df2[\"locations\"])\n",
        "\n",
        "df2.head()"
      ],
      "execution_count": 8,
      "outputs": [
        {
          "output_type": "execute_result",
          "data": {
            "text/html": [
              "<div>\n",
              "<style scoped>\n",
              "    .dataframe tbody tr th:only-of-type {\n",
              "        vertical-align: middle;\n",
              "    }\n",
              "\n",
              "    .dataframe tbody tr th {\n",
              "        vertical-align: top;\n",
              "    }\n",
              "\n",
              "    .dataframe thead th {\n",
              "        text-align: right;\n",
              "    }\n",
              "</style>\n",
              "<table border=\"1\" class=\"dataframe\">\n",
              "  <thead>\n",
              "    <tr style=\"text-align: right;\">\n",
              "      <th></th>\n",
              "      <th>Name</th>\n",
              "      <th>Price</th>\n",
              "      <th>Mileage</th>\n",
              "      <th>Condition</th>\n",
              "      <th>Year</th>\n",
              "      <th>locations</th>\n",
              "    </tr>\n",
              "  </thead>\n",
              "  <tbody>\n",
              "    <tr>\n",
              "      <th>0</th>\n",
              "      <td>6</td>\n",
              "      <td>50015000</td>\n",
              "      <td>21204.0</td>\n",
              "      <td>0</td>\n",
              "      <td>2018</td>\n",
              "      <td>4</td>\n",
              "    </tr>\n",
              "    <tr>\n",
              "      <th>1</th>\n",
              "      <td>14</td>\n",
              "      <td>5015000</td>\n",
              "      <td>140309.0</td>\n",
              "      <td>0</td>\n",
              "      <td>2013</td>\n",
              "      <td>5</td>\n",
              "    </tr>\n",
              "    <tr>\n",
              "      <th>2</th>\n",
              "      <td>22</td>\n",
              "      <td>7115000</td>\n",
              "      <td>172709.0</td>\n",
              "      <td>0</td>\n",
              "      <td>2013</td>\n",
              "      <td>6</td>\n",
              "    </tr>\n",
              "    <tr>\n",
              "      <th>3</th>\n",
              "      <td>10</td>\n",
              "      <td>4815000</td>\n",
              "      <td>114936.0</td>\n",
              "      <td>0</td>\n",
              "      <td>2010</td>\n",
              "      <td>10</td>\n",
              "    </tr>\n",
              "    <tr>\n",
              "      <th>4</th>\n",
              "      <td>18</td>\n",
              "      <td>8515000</td>\n",
              "      <td>123938.5</td>\n",
              "      <td>0</td>\n",
              "      <td>2012</td>\n",
              "      <td>10</td>\n",
              "    </tr>\n",
              "  </tbody>\n",
              "</table>\n",
              "</div>"
            ],
            "text/plain": [
              "   Name     Price   Mileage  Condition  Year  locations\n",
              "0     6  50015000   21204.0          0  2018          4\n",
              "1    14   5015000  140309.0          0  2013          5\n",
              "2    22   7115000  172709.0          0  2013          6\n",
              "3    10   4815000  114936.0          0  2010         10\n",
              "4    18   8515000  123938.5          0  2012         10"
            ]
          },
          "metadata": {
            "tags": []
          },
          "execution_count": 8
        }
      ]
    },
    {
      "cell_type": "code",
      "metadata": {
        "id": "FurodobBm__d",
        "colab": {
          "base_uri": "https://localhost:8080/",
          "height": 204
        },
        "outputId": "56e1f167-5bb3-4ca5-d717-c890c62db461"
      },
      "source": [
        "df3 = df2.copy()\n",
        "df3 = df3.drop(['Price'], axis=1)\n",
        "df3.head()"
      ],
      "execution_count": 9,
      "outputs": [
        {
          "output_type": "execute_result",
          "data": {
            "text/html": [
              "<div>\n",
              "<style scoped>\n",
              "    .dataframe tbody tr th:only-of-type {\n",
              "        vertical-align: middle;\n",
              "    }\n",
              "\n",
              "    .dataframe tbody tr th {\n",
              "        vertical-align: top;\n",
              "    }\n",
              "\n",
              "    .dataframe thead th {\n",
              "        text-align: right;\n",
              "    }\n",
              "</style>\n",
              "<table border=\"1\" class=\"dataframe\">\n",
              "  <thead>\n",
              "    <tr style=\"text-align: right;\">\n",
              "      <th></th>\n",
              "      <th>Name</th>\n",
              "      <th>Mileage</th>\n",
              "      <th>Condition</th>\n",
              "      <th>Year</th>\n",
              "      <th>locations</th>\n",
              "    </tr>\n",
              "  </thead>\n",
              "  <tbody>\n",
              "    <tr>\n",
              "      <th>0</th>\n",
              "      <td>6</td>\n",
              "      <td>21204.0</td>\n",
              "      <td>0</td>\n",
              "      <td>2018</td>\n",
              "      <td>4</td>\n",
              "    </tr>\n",
              "    <tr>\n",
              "      <th>1</th>\n",
              "      <td>14</td>\n",
              "      <td>140309.0</td>\n",
              "      <td>0</td>\n",
              "      <td>2013</td>\n",
              "      <td>5</td>\n",
              "    </tr>\n",
              "    <tr>\n",
              "      <th>2</th>\n",
              "      <td>22</td>\n",
              "      <td>172709.0</td>\n",
              "      <td>0</td>\n",
              "      <td>2013</td>\n",
              "      <td>6</td>\n",
              "    </tr>\n",
              "    <tr>\n",
              "      <th>3</th>\n",
              "      <td>10</td>\n",
              "      <td>114936.0</td>\n",
              "      <td>0</td>\n",
              "      <td>2010</td>\n",
              "      <td>10</td>\n",
              "    </tr>\n",
              "    <tr>\n",
              "      <th>4</th>\n",
              "      <td>18</td>\n",
              "      <td>123938.5</td>\n",
              "      <td>0</td>\n",
              "      <td>2012</td>\n",
              "      <td>10</td>\n",
              "    </tr>\n",
              "  </tbody>\n",
              "</table>\n",
              "</div>"
            ],
            "text/plain": [
              "   Name   Mileage  Condition  Year  locations\n",
              "0     6   21204.0          0  2018          4\n",
              "1    14  140309.0          0  2013          5\n",
              "2    22  172709.0          0  2013          6\n",
              "3    10  114936.0          0  2010         10\n",
              "4    18  123938.5          0  2012         10"
            ]
          },
          "metadata": {
            "tags": []
          },
          "execution_count": 9
        }
      ]
    },
    {
      "cell_type": "code",
      "metadata": {
        "id": "fnREmftJw_Z1",
        "colab": {
          "base_uri": "https://localhost:8080/"
        },
        "outputId": "e82516da-df82-4626-a2e6-a6821382fced"
      },
      "source": [
        "X = df3.iloc[:, :].values\n",
        "Y = df2.iloc[:, 1].values\n",
        "print(X)"
      ],
      "execution_count": 10,
      "outputs": [
        {
          "output_type": "stream",
          "text": [
            "[[6.00000e+00 2.12040e+04 0.00000e+00 2.01800e+03 4.00000e+00]\n",
            " [1.40000e+01 1.40309e+05 0.00000e+00 2.01300e+03 5.00000e+00]\n",
            " [2.20000e+01 1.72709e+05 0.00000e+00 2.01300e+03 6.00000e+00]\n",
            " ...\n",
            " [1.40000e+01 1.12019e+05 0.00000e+00 2.01200e+03 9.00000e+00]\n",
            " [1.40000e+01 9.86970e+04 0.00000e+00 2.01500e+03 9.00000e+00]\n",
            " [1.60000e+01 1.06800e+05 0.00000e+00 2.01300e+03 9.00000e+00]]\n"
          ],
          "name": "stdout"
        }
      ]
    },
    {
      "cell_type": "code",
      "metadata": {
        "id": "zESVuaoZPYV-"
      },
      "source": [
        "from sklearn.model_selection import train_test_split\n"
      ],
      "execution_count": 11,
      "outputs": []
    },
    {
      "cell_type": "code",
      "metadata": {
        "id": "r3_quRCUtQmS"
      },
      "source": [
        "X_train, X_test, y_train, y_test = train_test_split(\n",
        "    X, Y, test_size=0.2, random_state=123\n",
        ")"
      ],
      "execution_count": 12,
      "outputs": []
    },
    {
      "cell_type": "code",
      "metadata": {
        "colab": {
          "base_uri": "https://localhost:8080/"
        },
        "id": "i5n_QsGiQT0-",
        "outputId": "461f938e-ae9e-48a4-ca78-88963f430dba"
      },
      "source": [
        "X_train"
      ],
      "execution_count": 13,
      "outputs": [
        {
          "output_type": "execute_result",
          "data": {
            "text/plain": [
              "array([[3.000000e+00, 8.231000e+04, 0.000000e+00, 2.010000e+03,\n",
              "        3.000000e+00],\n",
              "       [1.400000e+01, 7.542200e+04, 0.000000e+00, 2.009000e+03,\n",
              "        3.000000e+00],\n",
              "       [1.400000e+01, 7.228300e+04, 0.000000e+00, 2.012000e+03,\n",
              "        8.000000e+00],\n",
              "       ...,\n",
              "       [2.200000e+01, 1.727090e+05, 0.000000e+00, 2.013000e+03,\n",
              "        6.000000e+00],\n",
              "       [1.400000e+01, 9.869700e+04, 0.000000e+00, 2.015000e+03,\n",
              "        9.000000e+00],\n",
              "       [8.000000e+00, 1.097634e+05, 0.000000e+00, 2.013000e+03,\n",
              "        2.000000e+00]])"
            ]
          },
          "metadata": {
            "tags": []
          },
          "execution_count": 13
        }
      ]
    },
    {
      "cell_type": "code",
      "metadata": {
        "colab": {
          "base_uri": "https://localhost:8080/"
        },
        "id": "Zl5hq37xJEwl",
        "outputId": "7b69240a-8907-4aa1-a4eb-a785da9477b7"
      },
      "source": [
        "# encode the numerical data\n",
        "from sklearn.preprocessing import StandardScaler\n",
        "sc = StandardScaler()\n",
        "X_train = sc.fit_transform(X_train)\n",
        "X_test = sc.transform(X_test)\n",
        "X_train"
      ],
      "execution_count": 14,
      "outputs": [
        {
          "output_type": "execute_result",
          "data": {
            "text/plain": [
              "array([[-1.45193027, -0.40287974, -0.2111943 , -0.47101673, -0.47826026],\n",
              "       [ 0.41475441, -0.45643246, -0.2111943 , -0.79366112, -0.47826026],\n",
              "       [ 0.41475441, -0.48083751, -0.2111943 ,  0.17427206,  1.09888073],\n",
              "       ...,\n",
              "       [ 1.77234327,  0.29995301, -0.2111943 ,  0.49691645,  0.46802433],\n",
              "       [ 0.41475441, -0.27547435, -0.2111943 ,  1.14220524,  1.41430893],\n",
              "       [-0.60343723, -0.18943547, -0.2111943 ,  0.49691645, -0.79368846]])"
            ]
          },
          "metadata": {
            "tags": []
          },
          "execution_count": 14
        }
      ]
    },
    {
      "cell_type": "code",
      "metadata": {
        "id": "x2-3hxLxRXYP"
      },
      "source": [
        ""
      ],
      "execution_count": null,
      "outputs": []
    },
    {
      "cell_type": "code",
      "metadata": {
        "id": "HNam2dxrwwjS"
      },
      "source": [
        "from sklearn.model_selection import train_test_split, GridSearchCV\n",
        "from sklearn import metrics\n",
        "\n",
        "from sklearn.linear_model import LinearRegression, Ridge\n",
        "from sklearn.ensemble import RandomForestRegressor, AdaBoostRegressor\n",
        "from sklearn.svm import SVR\n",
        "import xgboost as xgb\n",
        "import catboost as cb"
      ],
      "execution_count": 30,
      "outputs": []
    },
    {
      "cell_type": "code",
      "metadata": {
        "id": "Tird9VbGxFjB"
      },
      "source": [
        "lin_model = LinearRegression()\n",
        "ridge_model = Ridge(random_state=123)\n",
        "rf = RandomForestRegressor(random_state=123)\n",
        "ada_boost = AdaBoostRegressor(random_state=123)\n",
        "svr = SVR()\n",
        "xgb = xgb.XGBRegressor(random_state=123)\n",
        "\n",
        "models = {\n",
        "    \"lin_model\": lin_model,\n",
        "    \"ridge_model\": ridge_model,\n",
        "    \"rf_model\": rf,\n",
        "    \"ada_boost\": ada_boost,\n",
        "    \"svr\": svr,\n",
        "    \"xgb\": xgb\n",
        "}"
      ],
      "execution_count": 32,
      "outputs": []
    },
    {
      "cell_type": "code",
      "metadata": {
        "id": "ciW3Ag1FxH25"
      },
      "source": [
        "def train_model(models: dict) -> pd.DataFrame:\n",
        "    my_dict = {}\n",
        "    name_list, r_sqd_list, mae_list, rmse_list = [], [], [], []\n",
        "    for name, estimator in models.items():\n",
        "        \n",
        "        estimator.fit(X_train, y_train)\n",
        "\n",
        "        \n",
        "        y_pred = estimator.predict(X_test)\n",
        "\n",
        "        \n",
        "        r_sqd = metrics.r2_score(y_test, y_pred)\n",
        "        mae = metrics.mean_absolute_error(y_test, y_pred)\n",
        "        mse = metrics.mean_squared_error(y_test, y_pred)\n",
        "        rmse = np.sqrt(mse)\n",
        "\n",
        "        \n",
        "        name_list.append(name)\n",
        "        r_sqd_list.append(r_sqd)\n",
        "        mae_list.append(mae)\n",
        "        rmse_list.append(rmse)\n",
        "\n",
        "    my_dict[\"Name\"] = name_list\n",
        "    my_dict[\"R_squared\"] = r_sqd_list\n",
        "    my_dict[\"Mean_absolute_error\"] = mae_list\n",
        "    my_dict[\"Root_mean_sqd_error\"] = rmse_list\n",
        "\n",
        "    my_df = pd.DataFrame(my_dict)\n",
        "    my_df = my_df.sort_values(\"Root_mean_sqd_error\")\n",
        "    return my_df"
      ],
      "execution_count": 33,
      "outputs": []
    },
    {
      "cell_type": "code",
      "metadata": {
        "id": "kDjcxybpxQ1e",
        "colab": {
          "base_uri": "https://localhost:8080/",
          "height": 252
        },
        "outputId": "cfe6c3a4-f324-4fdc-911c-0545e39aff05"
      },
      "source": [
        "train_model(models)"
      ],
      "execution_count": 34,
      "outputs": [
        {
          "output_type": "stream",
          "text": [
            "[11:37:07] WARNING: /workspace/src/objective/regression_obj.cu:152: reg:linear is now deprecated in favor of reg:squarederror.\n"
          ],
          "name": "stdout"
        },
        {
          "output_type": "execute_result",
          "data": {
            "text/html": [
              "<div>\n",
              "<style scoped>\n",
              "    .dataframe tbody tr th:only-of-type {\n",
              "        vertical-align: middle;\n",
              "    }\n",
              "\n",
              "    .dataframe tbody tr th {\n",
              "        vertical-align: top;\n",
              "    }\n",
              "\n",
              "    .dataframe thead th {\n",
              "        text-align: right;\n",
              "    }\n",
              "</style>\n",
              "<table border=\"1\" class=\"dataframe\">\n",
              "  <thead>\n",
              "    <tr style=\"text-align: right;\">\n",
              "      <th></th>\n",
              "      <th>Name</th>\n",
              "      <th>R_squared</th>\n",
              "      <th>Mean_absolute_error</th>\n",
              "      <th>Root_mean_sqd_error</th>\n",
              "    </tr>\n",
              "  </thead>\n",
              "  <tbody>\n",
              "    <tr>\n",
              "      <th>2</th>\n",
              "      <td>rf_model</td>\n",
              "      <td>0.963923</td>\n",
              "      <td>9.229884e+05</td>\n",
              "      <td>1.753967e+06</td>\n",
              "    </tr>\n",
              "    <tr>\n",
              "      <th>5</th>\n",
              "      <td>xgb</td>\n",
              "      <td>0.957160</td>\n",
              "      <td>1.175472e+06</td>\n",
              "      <td>1.911300e+06</td>\n",
              "    </tr>\n",
              "    <tr>\n",
              "      <th>3</th>\n",
              "      <td>ada_boost</td>\n",
              "      <td>0.899085</td>\n",
              "      <td>2.352469e+06</td>\n",
              "      <td>2.933483e+06</td>\n",
              "    </tr>\n",
              "    <tr>\n",
              "      <th>0</th>\n",
              "      <td>lin_model</td>\n",
              "      <td>0.355464</td>\n",
              "      <td>4.154267e+06</td>\n",
              "      <td>7.413604e+06</td>\n",
              "    </tr>\n",
              "    <tr>\n",
              "      <th>1</th>\n",
              "      <td>ridge_model</td>\n",
              "      <td>0.355459</td>\n",
              "      <td>4.154241e+06</td>\n",
              "      <td>7.413632e+06</td>\n",
              "    </tr>\n",
              "    <tr>\n",
              "      <th>4</th>\n",
              "      <td>svr</td>\n",
              "      <td>-0.045578</td>\n",
              "      <td>4.793206e+06</td>\n",
              "      <td>9.442432e+06</td>\n",
              "    </tr>\n",
              "  </tbody>\n",
              "</table>\n",
              "</div>"
            ],
            "text/plain": [
              "          Name  R_squared  Mean_absolute_error  Root_mean_sqd_error\n",
              "2     rf_model   0.963923         9.229884e+05         1.753967e+06\n",
              "5          xgb   0.957160         1.175472e+06         1.911300e+06\n",
              "3    ada_boost   0.899085         2.352469e+06         2.933483e+06\n",
              "0    lin_model   0.355464         4.154267e+06         7.413604e+06\n",
              "1  ridge_model   0.355459         4.154241e+06         7.413632e+06\n",
              "4          svr  -0.045578         4.793206e+06         9.442432e+06"
            ]
          },
          "metadata": {
            "tags": []
          },
          "execution_count": 34
        }
      ]
    },
    {
      "cell_type": "markdown",
      "metadata": {
        "id": "77WRCdYgW147"
      },
      "source": [
        "**Tuning the Hyperparameters**"
      ]
    },
    {
      "cell_type": "code",
      "metadata": {
        "id": "gUgxESd2E933",
        "colab": {
          "base_uri": "https://localhost:8080/"
        },
        "outputId": "188c2ba1-b81c-4595-b0a3-deab13829334"
      },
      "source": [
        "from pprint import pprint\n",
        "# Look at parameters used by our current forest\n",
        "print('Parameters currently in use:\\n')\n",
        "pprint(rf.get_params())"
      ],
      "execution_count": 35,
      "outputs": [
        {
          "output_type": "stream",
          "text": [
            "Parameters currently in use:\n",
            "\n",
            "{'bootstrap': True,\n",
            " 'ccp_alpha': 0.0,\n",
            " 'criterion': 'mse',\n",
            " 'max_depth': None,\n",
            " 'max_features': 'auto',\n",
            " 'max_leaf_nodes': None,\n",
            " 'max_samples': None,\n",
            " 'min_impurity_decrease': 0.0,\n",
            " 'min_impurity_split': None,\n",
            " 'min_samples_leaf': 1,\n",
            " 'min_samples_split': 2,\n",
            " 'min_weight_fraction_leaf': 0.0,\n",
            " 'n_estimators': 100,\n",
            " 'n_jobs': None,\n",
            " 'oob_score': False,\n",
            " 'random_state': 123,\n",
            " 'verbose': 0,\n",
            " 'warm_start': False}\n"
          ],
          "name": "stdout"
        }
      ]
    },
    {
      "cell_type": "markdown",
      "metadata": {
        "id": "-j7Q58dIdjX-"
      },
      "source": [
        "\n",
        "**Hyperparameter using RandomizedSearch and Cross-validation(cv)**"
      ]
    },
    {
      "cell_type": "code",
      "metadata": {
        "colab": {
          "base_uri": "https://localhost:8080/"
        },
        "id": "vrNLjMG7E-0A",
        "outputId": "4db19ffc-15b0-4ca3-e592-5a36451a0dce"
      },
      "source": [
        "from sklearn.model_selection import RandomizedSearchCV\n",
        "\n",
        "# Number of trees in random forest\n",
        "n_estimators = [int(x) for x in np.linspace(start = 200, stop = 2000, num = 10)]\n",
        "# Number of features to consider at every split\n",
        "max_features = ['auto', 'sqrt']\n",
        "# Maximum number of levels in tree\n",
        "max_depth = [int(x) for x in np.linspace(10, 110, num = 11)]\n",
        "max_depth.append(None)\n",
        "# Minimum number of samples required to split a node\n",
        "min_samples_split = [2, 5, 10]\n",
        "# Minimum number of samples required at each leaf node\n",
        "min_samples_leaf = [1, 2, 4]\n",
        "# Method of selecting samples for training each tree\n",
        "bootstrap = [True, False]\n",
        "# Create the random grid\n",
        "random_grid = {'n_estimators': n_estimators,\n",
        "               'max_features': max_features,\n",
        "               'max_depth': max_depth,\n",
        "               'min_samples_split': min_samples_split,\n",
        "               'min_samples_leaf': min_samples_leaf,\n",
        "               'bootstrap': bootstrap}\n",
        "pprint(random_grid)"
      ],
      "execution_count": 36,
      "outputs": [
        {
          "output_type": "stream",
          "text": [
            "{'bootstrap': [True, False],\n",
            " 'max_depth': [10, 20, 30, 40, 50, 60, 70, 80, 90, 100, 110, None],\n",
            " 'max_features': ['auto', 'sqrt'],\n",
            " 'min_samples_leaf': [1, 2, 4],\n",
            " 'min_samples_split': [2, 5, 10],\n",
            " 'n_estimators': [200, 400, 600, 800, 1000, 1200, 1400, 1600, 1800, 2000]}\n"
          ],
          "name": "stdout"
        }
      ]
    },
    {
      "cell_type": "code",
      "metadata": {
        "id": "OvcFygk7FDdW",
        "colab": {
          "base_uri": "https://localhost:8080/"
        },
        "outputId": "b3a3504f-b757-4e9d-f65d-6128ec5410ec"
      },
      "source": [
        "rf_random = RandomizedSearchCV(estimator = rf, param_distributions = random_grid, n_iter = 100,\n",
        "                               cv = 3, verbose=2, random_state=123, n_jobs = -1)\n",
        "# Fit the random search model\n",
        "rf_random.fit(X_train, y_train)"
      ],
      "execution_count": 37,
      "outputs": [
        {
          "output_type": "stream",
          "text": [
            "Fitting 3 folds for each of 100 candidates, totalling 300 fits\n"
          ],
          "name": "stdout"
        },
        {
          "output_type": "stream",
          "text": [
            "[Parallel(n_jobs=-1)]: Using backend LokyBackend with 2 concurrent workers.\n",
            "[Parallel(n_jobs=-1)]: Done  37 tasks      | elapsed:  1.3min\n",
            "[Parallel(n_jobs=-1)]: Done 158 tasks      | elapsed:  5.8min\n",
            "[Parallel(n_jobs=-1)]: Done 300 out of 300 | elapsed: 10.8min finished\n"
          ],
          "name": "stderr"
        },
        {
          "output_type": "execute_result",
          "data": {
            "text/plain": [
              "RandomizedSearchCV(cv=3, error_score=nan,\n",
              "                   estimator=RandomForestRegressor(bootstrap=True,\n",
              "                                                   ccp_alpha=0.0,\n",
              "                                                   criterion='mse',\n",
              "                                                   max_depth=None,\n",
              "                                                   max_features='auto',\n",
              "                                                   max_leaf_nodes=None,\n",
              "                                                   max_samples=None,\n",
              "                                                   min_impurity_decrease=0.0,\n",
              "                                                   min_impurity_split=None,\n",
              "                                                   min_samples_leaf=1,\n",
              "                                                   min_samples_split=2,\n",
              "                                                   min_weight_fraction_leaf=0.0,\n",
              "                                                   n_estimators=100,\n",
              "                                                   n_jobs=None, oob_score=Fals...\n",
              "                   param_distributions={'bootstrap': [True, False],\n",
              "                                        'max_depth': [10, 20, 30, 40, 50, 60,\n",
              "                                                      70, 80, 90, 100, 110,\n",
              "                                                      None],\n",
              "                                        'max_features': ['auto', 'sqrt'],\n",
              "                                        'min_samples_leaf': [1, 2, 4],\n",
              "                                        'min_samples_split': [2, 5, 10],\n",
              "                                        'n_estimators': [200, 400, 600, 800,\n",
              "                                                         1000, 1200, 1400, 1600,\n",
              "                                                         1800, 2000]},\n",
              "                   pre_dispatch='2*n_jobs', random_state=123, refit=True,\n",
              "                   return_train_score=False, scoring=None, verbose=2)"
            ]
          },
          "metadata": {
            "tags": []
          },
          "execution_count": 37
        }
      ]
    },
    {
      "cell_type": "code",
      "metadata": {
        "colab": {
          "base_uri": "https://localhost:8080/"
        },
        "id": "ruH2ifLRFJAg",
        "outputId": "a9591ef9-2a05-4936-f452-b390c26d5761"
      },
      "source": [
        "rf_random.best_params_"
      ],
      "execution_count": 38,
      "outputs": [
        {
          "output_type": "execute_result",
          "data": {
            "text/plain": [
              "{'bootstrap': False,\n",
              " 'max_depth': 100,\n",
              " 'max_features': 'auto',\n",
              " 'min_samples_leaf': 1,\n",
              " 'min_samples_split': 5,\n",
              " 'n_estimators': 200}"
            ]
          },
          "metadata": {
            "tags": []
          },
          "execution_count": 38
        }
      ]
    },
    {
      "cell_type": "code",
      "metadata": {
        "id": "wCELwywHFQG2"
      },
      "source": [
        "def evaluate(model, test_features, test_labels):\n",
        "    predictions = model.predict(test_features)\n",
        "    errors = abs(predictions - test_labels)\n",
        "    mape = 100 * np.mean(errors / test_labels)\n",
        "    accuracy = 100 - mape\n",
        "    print('Model Performance')\n",
        "    print('Average Error: ₦{:0.4f}.'.format(np.mean(errors)))\n",
        "    print('Accuracy = {:0.2f}%.'.format(accuracy))\n",
        "    \n",
        "    return accuracy\n"
      ],
      "execution_count": 40,
      "outputs": []
    },
    {
      "cell_type": "code",
      "metadata": {
        "id": "8xogcLJxFZI0",
        "colab": {
          "base_uri": "https://localhost:8080/"
        },
        "outputId": "e4e43737-50d4-45de-9e0e-26185397fc3d"
      },
      "source": [
        "base_model = RandomForestRegressor(n_estimators = 100, random_state = 123)\n",
        "base_model.fit(X_train, y_train)\n",
        "base_accuracy = evaluate(base_model, X_train, y_train)\n"
      ],
      "execution_count": 41,
      "outputs": [
        {
          "output_type": "stream",
          "text": [
            "Model Performance\n",
            "Average Error: ₦978738.6100.\n",
            "Accuracy = 85.61%.\n"
          ],
          "name": "stdout"
        }
      ]
    },
    {
      "cell_type": "code",
      "metadata": {
        "id": "BYmfhLAHPf2m",
        "colab": {
          "base_uri": "https://localhost:8080/"
        },
        "outputId": "1648367a-9799-4b0f-8e54-450140da167a"
      },
      "source": [
        "best_random = rf_random.best_estimator_\n",
        "random_accuracy = evaluate(best_random, X_train, y_train)\n"
      ],
      "execution_count": 43,
      "outputs": [
        {
          "output_type": "stream",
          "text": [
            "Model Performance\n",
            "Average Error: ₦977493.5286.\n",
            "Accuracy = 85.63%.\n"
          ],
          "name": "stdout"
        }
      ]
    },
    {
      "cell_type": "code",
      "metadata": {
        "id": "aTxd3A0xPgSH",
        "colab": {
          "base_uri": "https://localhost:8080/"
        },
        "outputId": "7f441f9d-b2f9-4675-96c9-3f07022f0353"
      },
      "source": [
        "print('Improvement of {:0.2f}%.'.format( 100 * (random_accuracy - base_accuracy) / base_accuracy))"
      ],
      "execution_count": 44,
      "outputs": [
        {
          "output_type": "stream",
          "text": [
            "Improvement of 0.03%.\n"
          ],
          "name": "stdout"
        }
      ]
    },
    {
      "cell_type": "markdown",
      "metadata": {
        "id": "WxM7tN_kdUhj"
      },
      "source": [
        "**Hyperparameter using GridSearch**"
      ]
    },
    {
      "cell_type": "code",
      "metadata": {
        "id": "9dYgAzaIPgXM"
      },
      "source": [
        "from sklearn.model_selection import GridSearchCV\n",
        "# Create the parameter grid based on the results of random search \n",
        "param_grid = {\n",
        "    'bootstrap': [True],\n",
        "    'max_depth': [80, 90, 100, 110],\n",
        "    'max_features': [2, 3],\n",
        "    'min_samples_leaf': [3, 4, 5],\n",
        "    'min_samples_split': [8, 10, 12],\n",
        "    'n_estimators': [100, 200, 300, 1000]\n",
        "}\n",
        "# Create a based model\n",
        "rf0 = RandomForestRegressor()\n",
        "# Instantiate the grid search model\n",
        "grid_search = GridSearchCV(estimator = rf0, param_grid = param_grid, \n",
        "                          cv = 3, n_jobs = -1, verbose = 2)"
      ],
      "execution_count": 45,
      "outputs": []
    },
    {
      "cell_type": "code",
      "metadata": {
        "id": "EoGBcGr-PgdM",
        "colab": {
          "base_uri": "https://localhost:8080/"
        },
        "outputId": "139ee1e9-254c-4ed4-d8c9-1bd107a39829"
      },
      "source": [
        "grid_search.fit(X_train, y_train)\n",
        "grid_search.best_params_"
      ],
      "execution_count": 46,
      "outputs": [
        {
          "output_type": "stream",
          "text": [
            "Fitting 3 folds for each of 288 candidates, totalling 864 fits\n"
          ],
          "name": "stdout"
        },
        {
          "output_type": "stream",
          "text": [
            "[Parallel(n_jobs=-1)]: Using backend LokyBackend with 2 concurrent workers.\n",
            "[Parallel(n_jobs=-1)]: Done  37 tasks      | elapsed:   26.1s\n",
            "[Parallel(n_jobs=-1)]: Done 158 tasks      | elapsed:  1.9min\n",
            "[Parallel(n_jobs=-1)]: Done 361 tasks      | elapsed:  4.4min\n",
            "[Parallel(n_jobs=-1)]: Done 644 tasks      | elapsed:  7.9min\n",
            "[Parallel(n_jobs=-1)]: Done 864 out of 864 | elapsed: 10.7min finished\n"
          ],
          "name": "stderr"
        },
        {
          "output_type": "execute_result",
          "data": {
            "text/plain": [
              "{'bootstrap': True,\n",
              " 'max_depth': 100,\n",
              " 'max_features': 2,\n",
              " 'min_samples_leaf': 5,\n",
              " 'min_samples_split': 8,\n",
              " 'n_estimators': 100}"
            ]
          },
          "metadata": {
            "tags": []
          },
          "execution_count": 46
        }
      ]
    },
    {
      "cell_type": "code",
      "metadata": {
        "colab": {
          "base_uri": "https://localhost:8080/"
        },
        "id": "feNgGH9Wb5I2",
        "outputId": "e3292226-13c8-4188-c8c1-baedc8eaeffd"
      },
      "source": [
        "best_grid0 = grid_search.best_estimator_\n",
        "grid_accuracy = evaluate(best_grid0, X_train, y_train)"
      ],
      "execution_count": 47,
      "outputs": [
        {
          "output_type": "stream",
          "text": [
            "Model Performance\n",
            "Average Error: ₦997124.4961.\n",
            "Accuracy = 85.38%.\n"
          ],
          "name": "stdout"
        }
      ]
    },
    {
      "cell_type": "code",
      "metadata": {
        "id": "N-NVr-Wle2CS"
      },
      "source": [
        "y_pred = best_random.predict(X_test)"
      ],
      "execution_count": 48,
      "outputs": []
    },
    {
      "cell_type": "code",
      "metadata": {
        "colab": {
          "base_uri": "https://localhost:8080/",
          "height": 405
        },
        "id": "C-nvYwiDe74G",
        "outputId": "ef1376d1-f5d8-43ed-91a1-7b4260624fbc"
      },
      "source": [
        "import matplotlib.pyplot as plt\n",
        "import seaborn as sns\n",
        "\n",
        "#Residual Plot\n",
        "residual = y_test - y_pred\n",
        "\n",
        "plt.figure(figsize=(8, 6))\n",
        "sns.histplot(residual, kde=True)\n",
        "plt.title(\"Residual Plot\", size=15)\n",
        "\n",
        "plt.show()\n"
      ],
      "execution_count": 51,
      "outputs": [
        {
          "output_type": "display_data",
          "data": {
            "image/png": "[encoded data removed]",
            "text/plain": [
              "<Figure size 576x432 with 1 Axes>"
            ]
          },
          "metadata": {
            "tags": [],
            "needs_background": "light"
          }
        }
      ]
    },
    {
      "cell_type": "code",
      "metadata": {
        "id": "_kylexiEcD50"
      },
      "source": [
        "y_pred0 = best_grid0.predict(X_test)"
      ],
      "execution_count": 52,
      "outputs": []
    },
    {
      "cell_type": "code",
      "metadata": {
        "colab": {
          "base_uri": "https://localhost:8080/",
          "height": 405
        },
        "id": "gpBCtiS4fXCv",
        "outputId": "5c997e48-2f32-4a9b-d2ba-b2fa89e3e614"
      },
      "source": [
        "#Residual Plot\n",
        "residual = y_test - y_pred0\n",
        "\n",
        "plt.figure(figsize=(8, 6))\n",
        "sns.histplot(residual, kde=True)\n",
        "plt.title(\"Residual Plot\", size=15)\n",
        "\n",
        "plt.show()\n"
      ],
      "execution_count": 53,
      "outputs": [
        {
          "output_type": "display_data",
          "data": {
            "image/png": "[encoded data removed]",
            "text/plain": [
              "<Figure size 576x432 with 1 Axes>"
            ]
          },
          "metadata": {
            "tags": [],
            "needs_background": "light"
          }
        }
      ]
    },
    {
      "cell_type": "markdown",
      "metadata": {
        "id": "jDC3oOusg9_I"
      },
      "source": [
        "**NEW PREDICTIONS**"
      ]
    },
    {
      "cell_type": "code",
      "metadata": {
        "colab": {
          "base_uri": "https://localhost:8080/",
          "height": 204
        },
        "id": "LWKhwbJWhdIB",
        "outputId": "9e934176-f551-4af8-9bdc-eedf8faf85b9"
      },
      "source": [
        "df.sample(5, random_state=123)"
      ],
      "execution_count": 55,
      "outputs": [
        {
          "output_type": "execute_result",
          "data": {
            "text/html": [
              "<div>\n",
              "<style scoped>\n",
              "    .dataframe tbody tr th:only-of-type {\n",
              "        vertical-align: middle;\n",
              "    }\n",
              "\n",
              "    .dataframe tbody tr th {\n",
              "        vertical-align: top;\n",
              "    }\n",
              "\n",
              "    .dataframe thead th {\n",
              "        text-align: right;\n",
              "    }\n",
              "</style>\n",
              "<table border=\"1\" class=\"dataframe\">\n",
              "  <thead>\n",
              "    <tr style=\"text-align: right;\">\n",
              "      <th></th>\n",
              "      <th>Name</th>\n",
              "      <th>Price</th>\n",
              "      <th>Mileage</th>\n",
              "      <th>Condition</th>\n",
              "      <th>Year</th>\n",
              "      <th>locations</th>\n",
              "    </tr>\n",
              "  </thead>\n",
              "  <tbody>\n",
              "    <tr>\n",
              "      <th>1980</th>\n",
              "      <td>Toyota Highlander</td>\n",
              "      <td>13515000</td>\n",
              "      <td>20820.0</td>\n",
              "      <td>Foreign Used</td>\n",
              "      <td>2016</td>\n",
              "      <td>Anthony, Lagos</td>\n",
              "    </tr>\n",
              "    <tr>\n",
              "      <th>646</th>\n",
              "      <td>Lexus RX 350</td>\n",
              "      <td>7765000</td>\n",
              "      <td>137471.0</td>\n",
              "      <td>Foreign Used</td>\n",
              "      <td>2010</td>\n",
              "      <td>Festac, Lagos</td>\n",
              "    </tr>\n",
              "    <tr>\n",
              "      <th>5544</th>\n",
              "      <td>Lexus ES 350</td>\n",
              "      <td>50015000</td>\n",
              "      <td>72443.0</td>\n",
              "      <td>Foreign Used</td>\n",
              "      <td>2011</td>\n",
              "      <td>Festac, Lagos</td>\n",
              "    </tr>\n",
              "    <tr>\n",
              "      <th>1435</th>\n",
              "      <td>Toyota Camry</td>\n",
              "      <td>2797500</td>\n",
              "      <td>282613.0</td>\n",
              "      <td>Foreign Used</td>\n",
              "      <td>2006</td>\n",
              "      <td>Lagos, Lagos</td>\n",
              "    </tr>\n",
              "    <tr>\n",
              "      <th>2147</th>\n",
              "      <td>Lexus ES 350</td>\n",
              "      <td>2815000</td>\n",
              "      <td>98219.0</td>\n",
              "      <td>Foreign Used</td>\n",
              "      <td>2013</td>\n",
              "      <td>Ikate, Lekki, Lagos</td>\n",
              "    </tr>\n",
              "  </tbody>\n",
              "</table>\n",
              "</div>"
            ],
            "text/plain": [
              "                   Name     Price  ...  Year            locations\n",
              "1980  Toyota Highlander  13515000  ...  2016       Anthony, Lagos\n",
              "646        Lexus RX 350   7765000  ...  2010        Festac, Lagos\n",
              "5544       Lexus ES 350  50015000  ...  2011        Festac, Lagos\n",
              "1435       Toyota Camry   2797500  ...  2006         Lagos, Lagos\n",
              "2147       Lexus ES 350   2815000  ...  2013  Ikate, Lekki, Lagos\n",
              "\n",
              "[5 rows x 6 columns]"
            ]
          },
          "metadata": {
            "tags": []
          },
          "execution_count": 55
        }
      ]
    },
    {
      "cell_type": "code",
      "metadata": {
        "colab": {
          "base_uri": "https://localhost:8080/"
        },
        "id": "HYtjjYX9g7o-",
        "outputId": "9e2d5a4b-24b2-4ba7-91c9-0c58b048033d"
      },
      "source": [
        "#Name\tPrice\tMileage\tCondition\tYear\tlocations\n",
        "new_data = [[\"Lexus ES 350\", 72443.0, \"Foreign Used\", 2011, \"Ikate, Lekki, Lagos\"]]\n",
        "# convert to array\n",
        "new_data = np.array(new_data)\n",
        "new_data"
      ],
      "execution_count": 57,
      "outputs": [
        {
          "output_type": "execute_result",
          "data": {
            "text/plain": [
              "array([['Lexus ES 350', '72443.0', 'Foreign Used', '2011',\n",
              "        'Ikate, Lekki, Lagos']], dtype='<U19')"
            ]
          },
          "metadata": {
            "tags": []
          },
          "execution_count": 57
        }
      ]
    },
    {
      "cell_type": "code",
      "metadata": {
        "colab": {
          "base_uri": "https://localhost:8080/"
        },
        "id": "yNJylh8GjG6M",
        "outputId": "367847c6-d7cc-4fa2-d4ff-fe99cdb02eb3"
      },
      "source": [
        "new_data[:, 0] = le_Name.transform(new_data[:, 0])\n",
        "new_data[:, 2] = le_Condition.transform(new_data[:, 2])\n",
        "new_data[:, -1] = le_location.transform(new_data[:, -1])\n",
        "new_data"
      ],
      "execution_count": 58,
      "outputs": [
        {
          "output_type": "execute_result",
          "data": {
            "text/plain": [
              "array([['4', '72443.0', '0', '2011', '4']], dtype='<U19')"
            ]
          },
          "metadata": {
            "tags": []
          },
          "execution_count": 58
        }
      ]
    },
    {
      "cell_type": "code",
      "metadata": {
        "colab": {
          "base_uri": "https://localhost:8080/"
        },
        "id": "_AUE6_NQjpCN",
        "outputId": "a230a9e8-441e-4944-b7d1-0c6981fc01f2"
      },
      "source": [
        "new_data = sc.transform(new_data)\n",
        "new_data"
      ],
      "execution_count": 59,
      "outputs": [
        {
          "output_type": "execute_result",
          "data": {
            "text/plain": [
              "array([[-1.28223166, -0.47959354, -0.2111943 , -0.14837234, -0.16283206]])"
            ]
          },
          "metadata": {
            "tags": []
          },
          "execution_count": 59
        }
      ]
    },
    {
      "cell_type": "code",
      "metadata": {
        "colab": {
          "base_uri": "https://localhost:8080/"
        },
        "id": "PgpZnaixj1Xs",
        "outputId": "4c7fde33-f640-47d5-94a8-36a66ed50625"
      },
      "source": [
        "price = best_grid0.predict(new_data)\n",
        "price = round(price[0])  # round to the neaarest Naira\n",
        "\n",
        "print(f\"The estimated cost of the Car is NGN {price:,}\")\n"
      ],
      "execution_count": 62,
      "outputs": [
        {
          "output_type": "stream",
          "text": [
            "The estimated cost of the property is NGN 45,210,340\n"
          ],
          "name": "stdout"
        }
      ]
    },
    {
      "cell_type": "markdown",
      "metadata": {
        "id": "BWEQp608lJSh"
      },
      "source": [
        "**SAVING THE MODEL AS A PICKLE FILE**"
      ]
    },
    {
      "cell_type": "code",
      "metadata": {
        "id": "MCoSgcElk8EX"
      },
      "source": [
        "import pickle\n",
        "\n",
        "model = {}\n",
        "model[\"model0\"] = best_grid0\n",
        "model[\"Name\"] = le_Name\n",
        "model[\"Condition\"] = le_Condition\n",
        "model[\"location\"] = le_location\n",
        "model[\"Standard_Scalar\"] = sc\n",
        "model[\"Average_error\"] = 997124.4961\n",
        "\n",
        "with open(\"./drive/My Drive/Colab Notebooks/Group_estimator.pkl\", \"wb\") as f:\n",
        "    pickle.dump(model, f)"
      ],
      "execution_count": 63,
      "outputs": []
    },
    {
      "cell_type": "code",
      "metadata": {
        "id": "zamnwP1dlacG"
      },
      "source": [
        "# load the model\n",
        "with open(\"./drive/My Drive/Colab Notebooks/Group_estimator.pkl\", \"rb\") as f:\n",
        "    loaded_model = pickle.load(f)"
      ],
      "execution_count": 64,
      "outputs": []
    },
    {
      "cell_type": "markdown",
      "metadata": {
        "id": "pckI7FR6rDyZ"
      },
      "source": [
        "**Testing the Model**"
      ]
    },
    {
      "cell_type": "code",
      "metadata": {
        "id": "fjyi_ZyFljLx"
      },
      "source": [
        "RF = loaded_model[\"model0\"]  # regressor\n",
        "Name = loaded_model[\"Name\"]  # Name label encoder\n",
        "Condition = loaded_model[\"Condition\"] #Name label encoder\n",
        "location = loaded_model[\"location\"]  # location label encoder\n",
        "Standard_Scalar = loaded_model[\"Standard_Scalar\"]  # location label encoder\n",
        "Average_error = loaded_model[\"Average_error\"]  # location label encoder"
      ],
      "execution_count": 65,
      "outputs": []
    },
    {
      "cell_type": "code",
      "metadata": {
        "id": "7aYA763vlkVf"
      },
      "source": [
        "# type, address, bed, bath, toilet, pkn_space\n",
        "new_data0 = [[\"Lexus ES 350\", 72443.0, \"Foreign Used\", 2011, \"Ikate, Lekki, Lagos\"]]\n",
        "# convert to array\n",
        "new_data0 = np.array(new_data0)"
      ],
      "execution_count": 66,
      "outputs": []
    },
    {
      "cell_type": "code",
      "metadata": {
        "colab": {
          "base_uri": "https://localhost:8080/"
        },
        "id": "LwYdngNgpYpB",
        "outputId": "7329603c-fdc5-4fd9-e74c-3fa6ab73c73c"
      },
      "source": [
        "new_data0[:, 0] = Name.transform(new_data0[:, 0])\n",
        "new_data0[:, 2] = Condition.transform(new_data0[:, 2])\n",
        "new_data0[:, -1] = location.transform(new_data0[:, -1])\n",
        "new_data0"
      ],
      "execution_count": 67,
      "outputs": [
        {
          "output_type": "execute_result",
          "data": {
            "text/plain": [
              "array([['4', '72443.0', '0', '2011', '4']], dtype='<U19')"
            ]
          },
          "metadata": {
            "tags": []
          },
          "execution_count": 67
        }
      ]
    },
    {
      "cell_type": "code",
      "metadata": {
        "colab": {
          "base_uri": "https://localhost:8080/"
        },
        "id": "d7JMILtwpqPS",
        "outputId": "4ec29802-6bd2-4699-8f9a-ed3d8cde2319"
      },
      "source": [
        "new_data0 = Standard_Scalar.transform(new_data0)\n",
        "new_data0"
      ],
      "execution_count": 68,
      "outputs": [
        {
          "output_type": "execute_result",
          "data": {
            "text/plain": [
              "array([[-1.28223166, -0.47959354, -0.2111943 , -0.14837234, -0.16283206]])"
            ]
          },
          "metadata": {
            "tags": []
          },
          "execution_count": 68
        }
      ]
    },
    {
      "cell_type": "code",
      "metadata": {
        "colab": {
          "base_uri": "https://localhost:8080/"
        },
        "id": "_9giR-Efp3mp",
        "outputId": "3e1a905f-e7dd-4b5d-fb5a-c907eaa534b2"
      },
      "source": [
        "price0 = RF.predict(new_data)\n",
        "price0 = round(price0[0])  # round to the neaarest Naira\n",
        "price_a = Average_error+price0\n",
        "price_b = price0-Average_error\n",
        "print(f\"The estimated cost of the Car is NGN{price_a:,} - NGN{price_b:,}\")"
      ],
      "execution_count": 73,
      "outputs": [
        {
          "output_type": "stream",
          "text": [
            "The estimated cost of the Car is NGN46,207,464.4961 - NGN44,213,215.5039\n"
          ],
          "name": "stdout"
        }
      ]
    }
  ]
}